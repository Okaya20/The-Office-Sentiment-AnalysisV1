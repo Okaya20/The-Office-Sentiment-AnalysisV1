{
 "cells": [
  {
   "cell_type": "code",
   "execution_count": 431,
   "id": "10dd8d63",
   "metadata": {},
   "outputs": [],
   "source": [
    "import pandas as pd\n",
    "import numpy as np\n",
    "import matplotlib.pyplot as plt # for making figures\n",
    "import os    \n",
    "os.environ['KMP_DUPLICATE_LIB_OK'] = 'True'\n",
    "import re\n",
    "from sklearn.feature_extraction.text import CountVectorizer\n",
    "from sklearn.naive_bayes import MultinomialNB\n",
    "from sklearn.model_selection import train_test_split\n",
    "from sklearn.metrics import plot_confusion_matrix\n",
    "from sklearn.metrics import confusion_matrix\n",
    "import seaborn as sns\n",
    "from timeit import default_timer as timer  #for checking run time\n",
    "from datetime import timedelta\n",
    "from tensorflow.keras.utils import to_categorical\n",
    "from tensorflow.keras.layers import Input, Dense, Embedding, LSTM, Dropout, Bidirectional, GlobalMaxPooling1D\n",
    "from tensorflow.keras.models import Model\n",
    "from tensorflow.keras.optimizers import Adam\n",
    "from tensorflow.keras.models import Sequential\n",
    "from sklearn.model_selection import train_test_split\n",
    "from tensorflow.keras.preprocessing.sequence import pad_sequences\n",
    "from tensorflow.keras import callbacks\n",
    "from keras.callbacks import EarlyStopping\n",
    "from keras.optimizers import SGD\n",
    "from tensorflow.keras.layers import BatchNormalization\n",
    "from keras import models\n",
    "from keras import layers"
   ]
  },
  {
   "cell_type": "code",
   "execution_count": 432,
   "id": "09bea90a",
   "metadata": {},
   "outputs": [
    {
     "name": "stdout",
     "output_type": "stream",
     "text": [
      "dataset has 6 columns \n",
      "dataset has 54167 rows\n"
     ]
    },
    {
     "data": {
      "text/html": [
       "<div>\n",
       "<style scoped>\n",
       "    .dataframe tbody tr th:only-of-type {\n",
       "        vertical-align: middle;\n",
       "    }\n",
       "\n",
       "    .dataframe tbody tr th {\n",
       "        vertical-align: top;\n",
       "    }\n",
       "\n",
       "    .dataframe thead th {\n",
       "        text-align: right;\n",
       "    }\n",
       "</style>\n",
       "<table border=\"1\" class=\"dataframe\">\n",
       "  <thead>\n",
       "    <tr style=\"text-align: right;\">\n",
       "      <th></th>\n",
       "      <th>season</th>\n",
       "      <th>episode</th>\n",
       "      <th>title</th>\n",
       "      <th>scene</th>\n",
       "      <th>speaker</th>\n",
       "      <th>line</th>\n",
       "    </tr>\n",
       "  </thead>\n",
       "  <tbody>\n",
       "    <tr>\n",
       "      <th>0</th>\n",
       "      <td>1</td>\n",
       "      <td>1</td>\n",
       "      <td>Pilot</td>\n",
       "      <td>1</td>\n",
       "      <td>Michael</td>\n",
       "      <td>All right Jim. Your quarterlies look very good...</td>\n",
       "    </tr>\n",
       "    <tr>\n",
       "      <th>1</th>\n",
       "      <td>1</td>\n",
       "      <td>1</td>\n",
       "      <td>Pilot</td>\n",
       "      <td>1</td>\n",
       "      <td>Jim</td>\n",
       "      <td>Oh, I told you. I couldn't close it. So...</td>\n",
       "    </tr>\n",
       "    <tr>\n",
       "      <th>2</th>\n",
       "      <td>1</td>\n",
       "      <td>1</td>\n",
       "      <td>Pilot</td>\n",
       "      <td>1</td>\n",
       "      <td>Michael</td>\n",
       "      <td>So you've come to the master for guidance? Is ...</td>\n",
       "    </tr>\n",
       "  </tbody>\n",
       "</table>\n",
       "</div>"
      ],
      "text/plain": [
       "   season  episode  title  scene  speaker  \\\n",
       "0       1        1  Pilot      1  Michael   \n",
       "1       1        1  Pilot      1      Jim   \n",
       "2       1        1  Pilot      1  Michael   \n",
       "\n",
       "                                                line  \n",
       "0  All right Jim. Your quarterlies look very good...  \n",
       "1         Oh, I told you. I couldn't close it. So...  \n",
       "2  So you've come to the master for guidance? Is ...  "
      ]
     },
     "execution_count": 432,
     "metadata": {},
     "output_type": "execute_result"
    }
   ],
   "source": [
    "df = pd.read_csv(\"The-Office-Lines-V2.csv\")\n",
    "print(f\"dataset has {df.columns.shape[0]} columns \\ndataset has {df.shape[0]} rows\")\n",
    "df.head(3)"
   ]
  },
  {
   "cell_type": "code",
   "execution_count": 433,
   "id": "78a4af56",
   "metadata": {},
   "outputs": [
    {
     "data": {
      "text/plain": [
       "season     0\n",
       "episode    0\n",
       "title      0\n",
       "scene      0\n",
       "speaker    0\n",
       "line       0\n",
       "dtype: int64"
      ]
     },
     "execution_count": 433,
     "metadata": {},
     "output_type": "execute_result"
    }
   ],
   "source": [
    "df.isnull().sum()  #no missing value"
   ]
  },
  {
   "cell_type": "code",
   "execution_count": 434,
   "id": "cf8ae9a2",
   "metadata": {},
   "outputs": [
    {
     "data": {
      "text/plain": [
       "season      int64\n",
       "episode     int64\n",
       "title      object\n",
       "scene       int64\n",
       "speaker    object\n",
       "line       object\n",
       "dtype: object"
      ]
     },
     "execution_count": 434,
     "metadata": {},
     "output_type": "execute_result"
    }
   ],
   "source": [
    "df.dtypes # we have 3 integer/numeric and 3 object columns"
   ]
  },
  {
   "cell_type": "code",
   "execution_count": 435,
   "id": "4d28d41d",
   "metadata": {},
   "outputs": [
    {
     "data": {
      "text/plain": [
       "dict_keys(['season', 'episode', 'title', 'scene', 'speaker'])"
      ]
     },
     "execution_count": 435,
     "metadata": {},
     "output_type": "execute_result"
    }
   ],
   "source": [
    "dicct ={}\n",
    "for i in range(5):\n",
    "    dicct[df.iloc[:,i].name] = df.iloc[:,i].unique()\n",
    "dicct.keys()"
   ]
  },
  {
   "cell_type": "code",
   "execution_count": 436,
   "id": "65371eeb",
   "metadata": {},
   "outputs": [
    {
     "data": {
      "text/plain": [
       "777"
      ]
     },
     "execution_count": 436,
     "metadata": {},
     "output_type": "execute_result"
    }
   ],
   "source": [
    "len(dicct[\"speaker\"])"
   ]
  },
  {
   "cell_type": "code",
   "execution_count": 463,
   "id": "7382762b",
   "metadata": {},
   "outputs": [
    {
     "data": {
      "text/plain": [
       "['Michael',\n",
       " 'Dwight',\n",
       " 'Jim',\n",
       " 'Pam',\n",
       " 'Andy',\n",
       " 'Angela',\n",
       " 'Kevin',\n",
       " 'Erin',\n",
       " 'Oscar',\n",
       " 'Ryan']"
      ]
     },
     "execution_count": 463,
     "metadata": {},
     "output_type": "execute_result"
    }
   ],
   "source": [
    "mostchar=df.groupby(by=\"speaker\",sort=False).agg({\"speaker\":\"count\"}).rename_axis(\"index\").sort_values(by=\"speaker\",ascending=False)[:10].index\n",
    "mostchar.tolist()"
   ]
  },
  {
   "cell_type": "code",
   "execution_count": 464,
   "id": "e4e7a596",
   "metadata": {},
   "outputs": [],
   "source": [
    "df2=df[df.speaker.isin(mostchar)]"
   ]
  },
  {
   "cell_type": "code",
   "execution_count": 662,
   "id": "0967703e",
   "metadata": {},
   "outputs": [
    {
     "data": {
      "text/plain": [
       "13117    232\n",
       "3385     164\n",
       "34647    163\n",
       "12191    159\n",
       "24275    157\n",
       "Name: line, dtype: int64"
      ]
     },
     "execution_count": 662,
     "metadata": {},
     "output_type": "execute_result"
    }
   ],
   "source": [
    "bım=lambda x:len(x.split())\n",
    "df2[\"line\"].apply(bım).sort_values(ascending =False).head()  #length of lines"
   ]
  },
  {
   "cell_type": "code",
   "execution_count": 465,
   "id": "295c7b91",
   "metadata": {},
   "outputs": [
    {
     "data": {
      "text/plain": [
       "0        Michael\n",
       "1            Jim\n",
       "2        Michael\n",
       "3            Jim\n",
       "4        Michael\n",
       "          ...   \n",
       "54157      Kevin\n",
       "54158      Oscar\n",
       "54160       Erin\n",
       "54165        Jim\n",
       "54166        Pam\n",
       "Name: speaker, Length: 39113, dtype: object"
      ]
     },
     "execution_count": 465,
     "metadata": {},
     "output_type": "execute_result"
    }
   ],
   "source": [
    "x1 = df2.line\n",
    "x1\n",
    "y1 = df2.speaker\n",
    "y1"
   ]
  },
  {
   "cell_type": "code",
   "execution_count": 466,
   "id": "bc2cd511",
   "metadata": {},
   "outputs": [],
   "source": [
    "X_train, X_test, y_train, y_test = train_test_split(x1, y1, test_size=0.3,random_state=42)"
   ]
  },
  {
   "cell_type": "code",
   "execution_count": 652,
   "id": "e5f5f549",
   "metadata": {},
   "outputs": [],
   "source": [
    "class sentimentanalysis(object):\n",
    "    \n",
    "    def fit_str(self,stringg:str):   #In the end i have learned that column vectorizer figures this one out but for using strict this needed\n",
    "        stringg = stringg.lower() \n",
    "        self.arr= np.array(\" \".join(re.split(\"\\s+\", stringg, flags=re.UNICODE)).split())\n",
    "        return self.arr\n",
    "    \n",
    "    def fit_array(self,array:np.array): #this also not very necessary, at least last part is called at Predict\n",
    "        length = array.size\n",
    "        for a in range(length):\n",
    "            array[a] = array[a].lower()\n",
    "            array[a] =\" \".join(re.split(\"\\s+\", array[a], flags=re.UNICODE))\n",
    "        array = self.cv.transform(array)\n",
    "        return array\n",
    "    \n",
    "    def processDataFrame(self,data,label1:str,label2:str): # If you want to train model and you only have a dataframe\n",
    "        \n",
    "\n",
    "        data2=data.copy()\n",
    "        data2[label1+\" processed\"] =data2[label1].apply(lambda x: \" \".join(self.fit_str(x)))\n",
    "        self.data2 = data2\n",
    "        self.label1 = label1\n",
    "        self.label2 = label2\n",
    "        self.x=np.array(self.data2[self.label1])\n",
    "        self.y=np.array(self.data2[self.label2])\n",
    "        \n",
    "    def model_train_test_build(self,y = None,x=None): #if you have x and y just use this one\n",
    "        if x is None:\n",
    "            x = self.x\n",
    "        else:\n",
    "            x = x\n",
    "        if y is None:\n",
    "            y = self.y\n",
    "        else:\n",
    "            y  = y\n",
    "            \n",
    "        self.cv = CountVectorizer()\n",
    "        self.clf = MultinomialNB()\n",
    "        X_train, X_test, y_train, y_test = train_test_split(x, y, test_size=0.3 )\n",
    "        X_train =self.cv.fit_transform(X_train)\n",
    "        X_test = self.cv.transform(X_test)\n",
    "        self.clf.fit(X_train,y_train)\n",
    "        pred = self.clf.predict(X_test)\n",
    "        if np.unique(y).size == 2:\n",
    "            \n",
    "            self.matrix=confusion_matrix(y_test,pred)\n",
    "            sns.set(font_scale=1.5)\n",
    "            fig, ax = plt.subplots(figsize=(3, 3))\n",
    "            ax = sns.heatmap(self.matrix,\n",
    "                     annot=True,\n",
    "                     cbar=False)\n",
    "            plt.xlabel(\"Predicted label\")\n",
    "            plt.ylabel(\"True label\")\n",
    "        print(\"Accuracy : \",sum(pred==y_test)/y_test.size)\n",
    "        \n",
    "    def Predict(self,inp=None):  #After all steps use this, you may just give an string or a array of strings\n",
    "    \n",
    "        if inp is None:\n",
    "            inp = str(input())\n",
    "\n",
    "        \n",
    "        if type(inp) == str:\n",
    "            inp = np.array([\" \".join((self.fit_str(inp)))])\n",
    "            inp = self.cv.transform(inp)\n",
    "            return self.clf.predict(inp)\n",
    "        elif type(inp)==np.ndarray:\n",
    "            inp  = self.fit_array(inp)\n",
    "            return self.clf.predict(inp)\n",
    "        else:\n",
    "            print(\"Please give array or string\")"
   ]
  },
  {
   "cell_type": "code",
   "execution_count": 653,
   "id": "72f61ce8",
   "metadata": {},
   "outputs": [],
   "source": [
    "dtc = sentimentanalysis()"
   ]
  },
  {
   "cell_type": "code",
   "execution_count": 654,
   "id": "4dc9a27e",
   "metadata": {},
   "outputs": [
    {
     "name": "stdout",
     "output_type": "stream",
     "text": [
      "Accuracy :  0.31881711266405316\n"
     ]
    }
   ],
   "source": [
    "dtc.processDataFrame(df2,\"line\",\"speaker\")\n",
    "\n",
    "dtc.model_train_test_build()\n"
   ]
  },
  {
   "cell_type": "code",
   "execution_count": 655,
   "id": "01184ba3",
   "metadata": {},
   "outputs": [
    {
     "data": {
      "text/plain": [
       "(array(['Andy', 'Angela', 'Dwight', 'Erin', 'Jim', 'Kevin', 'Michael',\n",
       "        'Oscar', 'Pam', 'Ryan'], dtype=object),\n",
       " array([ 3658,  1529,  6707,  1401,  6156,  1516, 10712,  1320,  4933,\n",
       "         1181], dtype=int64))"
      ]
     },
     "execution_count": 655,
     "metadata": {},
     "output_type": "execute_result"
    }
   ],
   "source": [
    "np.unique(y1.values,return_counts=True)"
   ]
  },
  {
   "cell_type": "code",
   "execution_count": 656,
   "id": "1eb5cea1",
   "metadata": {},
   "outputs": [
    {
     "data": {
      "text/plain": [
       "0.4008897297573697"
      ]
     },
     "execution_count": 656,
     "metadata": {},
     "output_type": "execute_result"
    }
   ],
   "source": [
    "sum(dtc.Predict(x1.values) == y1.values)/y1.values.size"
   ]
  },
  {
   "cell_type": "code",
   "execution_count": 657,
   "id": "2fce9db6",
   "metadata": {},
   "outputs": [],
   "source": [
    "data=np.unique(dtc.Predict(x1.values),return_counts=True)"
   ]
  },
  {
   "cell_type": "code",
   "execution_count": 596,
   "id": "e54cd6c0",
   "metadata": {},
   "outputs": [],
   "source": [
    "dff=pd.DataFrame(data).T\n",
    "dff=dff.set_index(0).rename_axis(\"index\").rename(columns={1:\"model's\"})\n",
    "dfforiginal=df.groupby(by=\"speaker\",sort=False).agg({\"speaker\":\"count\"}).rename_axis(\"index\").sort_values(by=\"speaker\",ascending=False)[:10]"
   ]
  },
  {
   "cell_type": "code",
   "execution_count": 598,
   "id": "3d77a95a",
   "metadata": {},
   "outputs": [
    {
     "data": {
      "text/html": [
       "<div>\n",
       "<style scoped>\n",
       "    .dataframe tbody tr th:only-of-type {\n",
       "        vertical-align: middle;\n",
       "    }\n",
       "\n",
       "    .dataframe tbody tr th {\n",
       "        vertical-align: top;\n",
       "    }\n",
       "\n",
       "    .dataframe thead th {\n",
       "        text-align: right;\n",
       "    }\n",
       "</style>\n",
       "<table border=\"1\" class=\"dataframe\">\n",
       "  <thead>\n",
       "    <tr style=\"text-align: right;\">\n",
       "      <th></th>\n",
       "      <th>index</th>\n",
       "      <th>original_or_model</th>\n",
       "      <th>line_count</th>\n",
       "    </tr>\n",
       "  </thead>\n",
       "  <tbody>\n",
       "    <tr>\n",
       "      <th>0</th>\n",
       "      <td>Michael</td>\n",
       "      <td>original</td>\n",
       "      <td>10712</td>\n",
       "    </tr>\n",
       "    <tr>\n",
       "      <th>1</th>\n",
       "      <td>Dwight</td>\n",
       "      <td>original</td>\n",
       "      <td>6707</td>\n",
       "    </tr>\n",
       "    <tr>\n",
       "      <th>2</th>\n",
       "      <td>Jim</td>\n",
       "      <td>original</td>\n",
       "      <td>6156</td>\n",
       "    </tr>\n",
       "    <tr>\n",
       "      <th>3</th>\n",
       "      <td>Pam</td>\n",
       "      <td>original</td>\n",
       "      <td>4933</td>\n",
       "    </tr>\n",
       "    <tr>\n",
       "      <th>4</th>\n",
       "      <td>Andy</td>\n",
       "      <td>original</td>\n",
       "      <td>3658</td>\n",
       "    </tr>\n",
       "  </tbody>\n",
       "</table>\n",
       "</div>"
      ],
      "text/plain": [
       "     index original_or_model line_count\n",
       "0  Michael          original      10712\n",
       "1   Dwight          original       6707\n",
       "2      Jim          original       6156\n",
       "3      Pam          original       4933\n",
       "4     Andy          original       3658"
      ]
     },
     "execution_count": 598,
     "metadata": {},
     "output_type": "execute_result"
    }
   ],
   "source": [
    "df_merged= dfforiginal.join(dff).rename(columns={\"speaker\":\"original\"}).reset_index()\n",
    "df_merged\n",
    "#here comes to melting\n",
    "df_last = df_merged.melt(id_vars=[\"index\"],var_name=\"original_or_model\",value_name=\"line_count\")\n",
    "df_last.head(5)"
   ]
  },
  {
   "cell_type": "code",
   "execution_count": 627,
   "id": "6967cf50",
   "metadata": {},
   "outputs": [
    {
     "data": {
      "text/plain": [
       "Text(0, 0.5, 'Log Count of Line')"
      ]
     },
     "execution_count": 627,
     "metadata": {},
     "output_type": "execute_result"
    },
    {
     "data": {
      "image/png": "[encoded data removed]",
      "text/plain": [
       "<Figure size 640x480 with 1 Axes>"
      ]
     },
     "metadata": {},
     "output_type": "display_data"
    }
   ],
   "source": [
    "sns.set_style('whitegrid')\n",
    "plott=sns.barplot(x='index', y='line_count', hue='original_or_model', data=df_last, palette='hls')\n",
    "#plott.set(yscale=\"log\")\n",
    "\n",
    "#plt.title('Time Spent by Individuals in Different Activities')\n",
    "plt.xlabel('Characters')\n",
    "plt.ylabel('Log Count of Line')"
   ]
  },
  {
   "cell_type": "code",
   "execution_count": 660,
   "id": "30808659",
   "metadata": {},
   "outputs": [
    {
     "name": "stdout",
     "output_type": "stream",
     "text": [
      "731\n",
      "Jim\n",
      "i just thought it was kind of a flat, you know... 25 dollar, one-time donation. i didn't think it was per mile kinda deal. you know, so...\n"
     ]
    }
   ],
   "source": [
    "\n",
    "aa=int(input())\n",
    "print(df2.speaker[aa])\n",
    "print(dtc.x[aa])\n"
   ]
  },
  {
   "cell_type": "code",
   "execution_count": 661,
   "id": "db401286",
   "metadata": {},
   "outputs": [
    {
     "data": {
      "text/plain": [
       "array(['Jim'], dtype='<U7')"
      ]
     },
     "execution_count": 661,
     "metadata": {},
     "output_type": "execute_result"
    }
   ],
   "source": [
    "dtc.Predict(dtc.x[aa])"
   ]
  },
  {
   "cell_type": "code",
   "execution_count": 12,
   "id": "5060797f",
   "metadata": {},
   "outputs": [],
   "source": []
  },
  {
   "cell_type": "code",
   "execution_count": null,
   "id": "63f52780",
   "metadata": {},
   "outputs": [],
   "source": []
  },
  {
   "cell_type": "code",
   "execution_count": 482,
   "id": "0f6bc522",
   "metadata": {},
   "outputs": [
    {
     "data": {
      "text/plain": [
       "{0: 'Michael',\n",
       " 1: 'Jim',\n",
       " 2: 'Pam',\n",
       " 3: 'Dwight',\n",
       " 4: 'Oscar',\n",
       " 5: 'Angela',\n",
       " 6: 'Kevin',\n",
       " 7: 'Ryan',\n",
       " 8: 'Andy',\n",
       " 9: 'Erin'}"
      ]
     },
     "execution_count": 482,
     "metadata": {},
     "output_type": "execute_result"
    }
   ],
   "source": [
    "X3 = df2.line\n",
    "X3\n",
    "y3 = df2.speaker\n",
    "y3\n",
    "labels=y3.unique().tolist()\n",
    "labels2 = {i[1]:i[0] for i in enumerate(labels)}\n",
    "labels2\n",
    "y_labels_all=df2.replace(labels2)[\"speaker\"]\n",
    "y_labels_all\n",
    "i_label = {value:key for key,value in labels2.items()}\n",
    "i_label"
   ]
  },
  {
   "cell_type": "code",
   "execution_count": 483,
   "id": "966d24ab",
   "metadata": {},
   "outputs": [
    {
     "data": {
      "text/plain": [
       "(39113, 16481)"
      ]
     },
     "execution_count": 483,
     "metadata": {},
     "output_type": "execute_result"
    }
   ],
   "source": [
    "lavector = CountVectorizer()\n",
    "X4=lavector.fit_transform(X3)\n",
    "X4.shape"
   ]
  },
  {
   "cell_type": "code",
   "execution_count": 484,
   "id": "b13dac83",
   "metadata": {},
   "outputs": [],
   "source": [
    "X_train_val, X_test, y_train_val, y_test = train_test_split(X4, y_labels_all,stratify=y_labels_all ,test_size=0.3 )"
   ]
  },
  {
   "cell_type": "code",
   "execution_count": 485,
   "id": "297ac316",
   "metadata": {},
   "outputs": [],
   "source": [
    "X_train,X_val,y_train,y_val =train_test_split(X_train_val,y_train_val,stratify=y_train_val,test_size = 0.2)"
   ]
  },
  {
   "cell_type": "code",
   "execution_count": 486,
   "id": "65de8b6d",
   "metadata": {},
   "outputs": [],
   "source": [
    "Y_train = to_categorical(y_train)\n",
    "Y_val = to_categorical(y_val)\n",
    "Y_test = to_categorical(y_test)"
   ]
  },
  {
   "cell_type": "code",
   "execution_count": 244,
   "id": "aeb4685c",
   "metadata": {},
   "outputs": [
    {
     "data": {
      "text/plain": [
       "(29677, 14390)"
      ]
     },
     "execution_count": 244,
     "metadata": {},
     "output_type": "execute_result"
    }
   ],
   "source": [
    "lavector = CountVectorizer()\n",
    "\n",
    "X_train =lavector.fit_transform(X_train)\n",
    "X_val = lavector.transform(X_val)\n",
    "X_test = lavector.transform(X_test)\n",
    "\n",
    "X_train.shape"
   ]
  },
  {
   "cell_type": "code",
   "execution_count": 487,
   "id": "afa08e95",
   "metadata": {},
   "outputs": [],
   "source": [
    "X_val =X_val.astype('float32')\n",
    "X_train = X_train.astype('float32')\n",
    "X_test = X_test.astype('float32')"
   ]
  },
  {
   "cell_type": "code",
   "execution_count": 488,
   "id": "50a1fad6",
   "metadata": {},
   "outputs": [
    {
     "data": {
      "text/plain": [
       "(21903, 16481)"
      ]
     },
     "execution_count": 488,
     "metadata": {},
     "output_type": "execute_result"
    }
   ],
   "source": [
    "X_train.shape"
   ]
  },
  {
   "cell_type": "code",
   "execution_count": 489,
   "id": "f1a50ae0",
   "metadata": {},
   "outputs": [
    {
     "data": {
      "text/plain": [
       "(11734, 16481)"
      ]
     },
     "execution_count": 489,
     "metadata": {},
     "output_type": "execute_result"
    }
   ],
   "source": [
    "X_test.shape"
   ]
  },
  {
   "cell_type": "code",
   "execution_count": 490,
   "id": "8d2cf04e",
   "metadata": {
    "scrolled": true
   },
   "outputs": [
    {
     "data": {
      "text/plain": [
       "(5476, 16481)"
      ]
     },
     "execution_count": 490,
     "metadata": {},
     "output_type": "execute_result"
    }
   ],
   "source": [
    "X_val.shape"
   ]
  },
  {
   "cell_type": "code",
   "execution_count": 491,
   "id": "f4ddc635",
   "metadata": {},
   "outputs": [],
   "source": [
    "model = models.Sequential()\n",
    "model.add(layers.Dense(128, activation='relu', input_shape = (X_train.shape[1],),bias_initializer='ones',kernel_initializer='random_uniform'))\n",
    "model.add(layers.Dense(128, activation='relu' ,bias_initializer='zeros',kernel_initializer='random_uniform'))\n",
    "model.add(layers.Dense(len(i_label), activation='softmax',bias_initializer='zeros',kernel_initializer='random_uniform'))"
   ]
  },
  {
   "cell_type": "code",
   "execution_count": 492,
   "id": "75f7b49f",
   "metadata": {},
   "outputs": [],
   "source": [
    "model.compile(optimizer='rmsprop',\n",
    "             loss='categorical_crossentropy',\n",
    "             metrics=['accuracy'])"
   ]
  },
  {
   "cell_type": "code",
   "execution_count": 493,
   "id": "331fc1ac",
   "metadata": {},
   "outputs": [
    {
     "data": {
      "text/plain": [
       "array([[0., 1., 0., ..., 0., 0., 0.],\n",
       "       [1., 0., 0., ..., 0., 0., 0.],\n",
       "       [0., 0., 0., ..., 0., 0., 0.],\n",
       "       ...,\n",
       "       [1., 0., 0., ..., 0., 0., 0.],\n",
       "       [0., 0., 1., ..., 0., 0., 0.],\n",
       "       [0., 0., 1., ..., 0., 0., 0.]], dtype=float32)"
      ]
     },
     "execution_count": 493,
     "metadata": {},
     "output_type": "execute_result"
    }
   ],
   "source": [
    "Y_val\n"
   ]
  },
  {
   "cell_type": "code",
   "execution_count": 494,
   "id": "17baef1f",
   "metadata": {},
   "outputs": [
    {
     "name": "stdout",
     "output_type": "stream",
     "text": [
      "Epoch 1/100\n"
     ]
    },
    {
     "name": "stderr",
     "output_type": "stream",
     "text": [
      "C:\\Users\\ahmet\\anaconda3\\envs\\new_env\\lib\\site-packages\\tensorflow\\python\\framework\\indexed_slices.py:446: UserWarning: Converting sparse IndexedSlices(IndexedSlices(indices=Tensor(\"gradient_tape/sequential_16/dense_48/embedding_lookup_sparse/Reshape_1:0\", shape=(None,), dtype=int32), values=Tensor(\"gradient_tape/sequential_16/dense_48/embedding_lookup_sparse/Reshape:0\", shape=(None, 128), dtype=float32), dense_shape=Tensor(\"gradient_tape/sequential_16/dense_48/embedding_lookup_sparse/Cast:0\", shape=(2,), dtype=int32))) to a dense Tensor of unknown shape. This may consume a large amount of memory.\n",
      "  \"shape. This may consume a large amount of memory.\" % value)\n"
     ]
    },
    {
     "name": "stdout",
     "output_type": "stream",
     "text": [
      "71/71 [==============================] - 1s 10ms/step - loss: 2.0249 - accuracy: 0.2720 - val_loss: 2.0141 - val_accuracy: 0.2739\n",
      "Epoch 2/100\n",
      "71/71 [==============================] - 1s 9ms/step - loss: 1.9871 - accuracy: 0.2759 - val_loss: 1.9848 - val_accuracy: 0.2783\n",
      "Epoch 3/100\n",
      "71/71 [==============================] - 1s 8ms/step - loss: 1.9365 - accuracy: 0.3011 - val_loss: 1.9682 - val_accuracy: 0.2821\n",
      "Epoch 4/100\n",
      "71/71 [==============================] - 1s 8ms/step - loss: 1.8748 - accuracy: 0.3366 - val_loss: 1.9830 - val_accuracy: 0.2849\n",
      "Epoch 5/100\n",
      "71/71 [==============================] - 1s 8ms/step - loss: 1.8182 - accuracy: 0.3642 - val_loss: 1.9568 - val_accuracy: 0.3055\n",
      "Epoch 6/100\n",
      "71/71 [==============================] - 1s 8ms/step - loss: 1.7614 - accuracy: 0.3878 - val_loss: 1.9420 - val_accuracy: 0.3115\n",
      "Epoch 7/100\n",
      "71/71 [==============================] - 1s 8ms/step - loss: 1.7093 - accuracy: 0.4095 - val_loss: 1.9660 - val_accuracy: 0.3104\n",
      "Epoch 8/100\n",
      "71/71 [==============================] - 1s 8ms/step - loss: 1.6625 - accuracy: 0.4268 - val_loss: 1.9914 - val_accuracy: 0.3132\n",
      "Epoch 9/100\n",
      "71/71 [==============================] - 1s 8ms/step - loss: 1.6140 - accuracy: 0.4483 - val_loss: 1.9917 - val_accuracy: 0.3042\n",
      "Epoch 10/100\n",
      "71/71 [==============================] - 1s 8ms/step - loss: 1.5760 - accuracy: 0.4555 - val_loss: 2.0188 - val_accuracy: 0.2860\n",
      "Epoch 11/100\n",
      "71/71 [==============================] - 1s 8ms/step - loss: 1.5356 - accuracy: 0.4719 - val_loss: 2.1172 - val_accuracy: 0.2584\n",
      "Epoch 12/100\n",
      "71/71 [==============================] - 1s 8ms/step - loss: 1.5060 - accuracy: 0.4803 - val_loss: 2.0710 - val_accuracy: 0.2874\n",
      "Epoch 13/100\n",
      "71/71 [==============================] - 1s 8ms/step - loss: 1.4681 - accuracy: 0.4968 - val_loss: 2.1007 - val_accuracy: 0.2858\n",
      "Epoch 14/100\n",
      "71/71 [==============================] - 1s 8ms/step - loss: 1.4391 - accuracy: 0.5066 - val_loss: 2.1343 - val_accuracy: 0.2798\n",
      "Epoch 15/100\n",
      "71/71 [==============================] - 1s 8ms/step - loss: 1.4075 - accuracy: 0.5158 - val_loss: 2.2573 - val_accuracy: 0.2546\n",
      "Epoch 16/100\n",
      "71/71 [==============================] - 1s 8ms/step - loss: 1.3858 - accuracy: 0.5252 - val_loss: 2.1637 - val_accuracy: 0.2931\n",
      "Epoch 17/100\n",
      "71/71 [==============================] - 1s 8ms/step - loss: 1.3590 - accuracy: 0.5320 - val_loss: 2.2568 - val_accuracy: 0.3165\n",
      "Epoch 18/100\n",
      "71/71 [==============================] - 1s 8ms/step - loss: 1.3334 - accuracy: 0.5397 - val_loss: 2.2775 - val_accuracy: 0.2814\n",
      "Epoch 19/100\n",
      "71/71 [==============================] - 1s 8ms/step - loss: 1.3102 - accuracy: 0.5468 - val_loss: 2.3052 - val_accuracy: 0.2960\n",
      "Epoch 20/100\n",
      "71/71 [==============================] - 1s 8ms/step - loss: 1.2890 - accuracy: 0.5578 - val_loss: 2.3461 - val_accuracy: 0.2989\n",
      "Epoch 21/100\n",
      "71/71 [==============================] - 1s 8ms/step - loss: 1.2668 - accuracy: 0.5628 - val_loss: 2.4326 - val_accuracy: 0.2787\n",
      "Epoch 22/100\n",
      "71/71 [==============================] - 1s 8ms/step - loss: 1.2469 - accuracy: 0.5710 - val_loss: 2.3989 - val_accuracy: 0.2610\n",
      "Epoch 23/100\n",
      "71/71 [==============================] - 1s 8ms/step - loss: 1.2269 - accuracy: 0.5759 - val_loss: 2.4693 - val_accuracy: 0.2916\n",
      "Epoch 24/100\n",
      "71/71 [==============================] - 1s 8ms/step - loss: 1.2066 - accuracy: 0.5830 - val_loss: 2.4878 - val_accuracy: 0.2789\n",
      "Epoch 25/100\n",
      "71/71 [==============================] - 1s 8ms/step - loss: 1.1867 - accuracy: 0.5859 - val_loss: 2.5739 - val_accuracy: 0.2836\n",
      "Epoch 26/100\n",
      "71/71 [==============================] - 1s 8ms/step - loss: 1.1716 - accuracy: 0.5899 - val_loss: 2.4961 - val_accuracy: 0.2663\n",
      "Epoch 27/100\n",
      "71/71 [==============================] - 1s 8ms/step - loss: 1.1548 - accuracy: 0.5957 - val_loss: 2.5525 - val_accuracy: 0.2798\n",
      "Epoch 28/100\n",
      "71/71 [==============================] - 1s 8ms/step - loss: 1.1399 - accuracy: 0.6003 - val_loss: 2.5373 - val_accuracy: 0.2900\n",
      "Epoch 29/100\n",
      "71/71 [==============================] - 1s 8ms/step - loss: 1.1222 - accuracy: 0.6063 - val_loss: 2.5691 - val_accuracy: 0.2909\n",
      "Epoch 30/100\n",
      "71/71 [==============================] - 1s 8ms/step - loss: 1.1074 - accuracy: 0.6089 - val_loss: 2.7573 - val_accuracy: 0.2971\n",
      "Epoch 31/100\n",
      "71/71 [==============================] - 1s 8ms/step - loss: 1.0960 - accuracy: 0.6145 - val_loss: 2.7566 - val_accuracy: 0.2275\n",
      "Epoch 32/100\n",
      "71/71 [==============================] - 1s 8ms/step - loss: 1.0830 - accuracy: 0.6177 - val_loss: 2.6979 - val_accuracy: 0.2894\n",
      "Epoch 33/100\n",
      "71/71 [==============================] - 1s 8ms/step - loss: 1.0723 - accuracy: 0.6226 - val_loss: 2.7761 - val_accuracy: 0.2434\n",
      "Epoch 34/100\n",
      "71/71 [==============================] - 1s 8ms/step - loss: 1.0606 - accuracy: 0.6274 - val_loss: 2.8143 - val_accuracy: 0.2531\n",
      "Epoch 35/100\n",
      "71/71 [==============================] - 1s 8ms/step - loss: 1.0528 - accuracy: 0.6236 - val_loss: 2.8279 - val_accuracy: 0.2991\n",
      "Epoch 36/100\n",
      "71/71 [==============================] - 1s 8ms/step - loss: 1.0399 - accuracy: 0.6290 - val_loss: 2.7944 - val_accuracy: 0.2801\n",
      "Epoch 37/100\n",
      "71/71 [==============================] - 1s 8ms/step - loss: 1.0295 - accuracy: 0.6335 - val_loss: 2.9189 - val_accuracy: 0.2816\n",
      "Epoch 38/100\n",
      "71/71 [==============================] - 1s 8ms/step - loss: 1.0252 - accuracy: 0.6332 - val_loss: 2.8391 - val_accuracy: 0.2829\n",
      "Epoch 39/100\n",
      "71/71 [==============================] - 1s 8ms/step - loss: 1.0125 - accuracy: 0.6374 - val_loss: 2.8943 - val_accuracy: 0.2673\n",
      "Epoch 40/100\n",
      "71/71 [==============================] - 1s 8ms/step - loss: 1.0055 - accuracy: 0.6375 - val_loss: 2.9791 - val_accuracy: 0.2253\n",
      "Epoch 41/100\n",
      "71/71 [==============================] - 1s 8ms/step - loss: 0.9996 - accuracy: 0.6402 - val_loss: 2.9083 - val_accuracy: 0.2684\n",
      "Epoch 42/100\n",
      "71/71 [==============================] - 1s 8ms/step - loss: 0.9937 - accuracy: 0.6406 - val_loss: 2.9697 - val_accuracy: 0.2600\n",
      "Epoch 43/100\n",
      "71/71 [==============================] - 1s 9ms/step - loss: 0.9845 - accuracy: 0.6425 - val_loss: 3.0707 - val_accuracy: 0.2810\n",
      "Epoch 44/100\n",
      "71/71 [==============================] - 1s 8ms/step - loss: 0.9818 - accuracy: 0.6424 - val_loss: 3.0111 - val_accuracy: 0.2445\n",
      "Epoch 45/100\n",
      "71/71 [==============================] - 1s 8ms/step - loss: 0.9721 - accuracy: 0.6463 - val_loss: 3.0513 - val_accuracy: 0.2303\n",
      "Epoch 46/100\n",
      "71/71 [==============================] - 1s 8ms/step - loss: 0.9673 - accuracy: 0.6492 - val_loss: 3.0606 - val_accuracy: 0.2456\n",
      "Epoch 47/100\n",
      "71/71 [==============================] - 1s 8ms/step - loss: 0.9612 - accuracy: 0.6534 - val_loss: 3.2349 - val_accuracy: 0.2518\n",
      "Epoch 48/100\n",
      "71/71 [==============================] - 1s 8ms/step - loss: 0.9583 - accuracy: 0.6504 - val_loss: 3.0843 - val_accuracy: 0.2752\n",
      "Epoch 49/100\n",
      "71/71 [==============================] - 1s 8ms/step - loss: 0.9511 - accuracy: 0.6532 - val_loss: 3.1192 - val_accuracy: 0.2522\n",
      "Epoch 50/100\n",
      "71/71 [==============================] - 1s 8ms/step - loss: 0.9444 - accuracy: 0.6571 - val_loss: 3.1652 - val_accuracy: 0.2646\n",
      "Epoch 51/100\n",
      "71/71 [==============================] - 1s 8ms/step - loss: 0.9430 - accuracy: 0.6554 - val_loss: 3.2247 - val_accuracy: 0.2653\n",
      "Epoch 52/100\n",
      "71/71 [==============================] - 1s 8ms/step - loss: 0.9377 - accuracy: 0.6572 - val_loss: 3.1725 - val_accuracy: 0.2898\n",
      "Epoch 53/100\n",
      "71/71 [==============================] - 1s 8ms/step - loss: 0.9311 - accuracy: 0.6592 - val_loss: 3.1964 - val_accuracy: 0.2849\n",
      "Epoch 54/100\n",
      "71/71 [==============================] - 1s 8ms/step - loss: 0.9279 - accuracy: 0.6626 - val_loss: 3.3053 - val_accuracy: 0.2447\n",
      "Epoch 55/100\n",
      "71/71 [==============================] - 1s 8ms/step - loss: 0.9251 - accuracy: 0.6597 - val_loss: 3.2638 - val_accuracy: 0.2451\n",
      "Epoch 56/100\n",
      "71/71 [==============================] - 1s 8ms/step - loss: 0.9210 - accuracy: 0.6609 - val_loss: 3.2783 - val_accuracy: 0.2703\n",
      "Epoch 57/100\n",
      "71/71 [==============================] - 1s 8ms/step - loss: 0.9157 - accuracy: 0.6634 - val_loss: 3.2998 - val_accuracy: 0.2723\n",
      "Epoch 58/100\n",
      "71/71 [==============================] - 1s 8ms/step - loss: 0.9152 - accuracy: 0.6636 - val_loss: 3.3273 - val_accuracy: 0.2829\n"
     ]
    },
    {
     "name": "stdout",
     "output_type": "stream",
     "text": [
      "Epoch 59/100\n",
      "71/71 [==============================] - 1s 8ms/step - loss: 0.9102 - accuracy: 0.6645 - val_loss: 3.3218 - val_accuracy: 0.2785\n",
      "Epoch 60/100\n",
      "71/71 [==============================] - 1s 8ms/step - loss: 0.9059 - accuracy: 0.6700 - val_loss: 3.3728 - val_accuracy: 0.2812\n",
      "Epoch 61/100\n",
      "71/71 [==============================] - 1s 8ms/step - loss: 0.9018 - accuracy: 0.6668 - val_loss: 3.3580 - val_accuracy: 0.2736\n",
      "Epoch 62/100\n",
      "71/71 [==============================] - 1s 8ms/step - loss: 0.8973 - accuracy: 0.6703 - val_loss: 3.3711 - val_accuracy: 0.2580\n",
      "Epoch 63/100\n",
      "71/71 [==============================] - 1s 8ms/step - loss: 0.8959 - accuracy: 0.6683 - val_loss: 3.4188 - val_accuracy: 0.2624\n",
      "Epoch 64/100\n",
      "71/71 [==============================] - 1s 8ms/step - loss: 0.8925 - accuracy: 0.6717 - val_loss: 3.4667 - val_accuracy: 0.2655\n",
      "Epoch 65/100\n",
      "71/71 [==============================] - 1s 8ms/step - loss: 0.8905 - accuracy: 0.6723 - val_loss: 3.5161 - val_accuracy: 0.2904\n",
      "Epoch 66/100\n",
      "71/71 [==============================] - 1s 8ms/step - loss: 0.8853 - accuracy: 0.6689 - val_loss: 3.5380 - val_accuracy: 0.2608\n",
      "Epoch 67/100\n",
      "71/71 [==============================] - 1s 8ms/step - loss: 0.8859 - accuracy: 0.6726 - val_loss: 3.5955 - val_accuracy: 0.2502\n",
      "Epoch 68/100\n",
      "71/71 [==============================] - 1s 8ms/step - loss: 0.8804 - accuracy: 0.6748 - val_loss: 3.5835 - val_accuracy: 0.2571\n",
      "Epoch 69/100\n",
      "71/71 [==============================] - 1s 8ms/step - loss: 0.8800 - accuracy: 0.6748 - val_loss: 3.5547 - val_accuracy: 0.2569\n",
      "Epoch 70/100\n",
      "71/71 [==============================] - 1s 8ms/step - loss: 0.8733 - accuracy: 0.6788 - val_loss: 3.5948 - val_accuracy: 0.2684\n",
      "Epoch 71/100\n",
      "71/71 [==============================] - 1s 8ms/step - loss: 0.8713 - accuracy: 0.6801 - val_loss: 3.5923 - val_accuracy: 0.2507\n",
      "Epoch 72/100\n",
      "71/71 [==============================] - 1s 8ms/step - loss: 0.8694 - accuracy: 0.6781 - val_loss: 3.6746 - val_accuracy: 0.2621\n",
      "Epoch 73/100\n",
      "71/71 [==============================] - 1s 8ms/step - loss: 0.8659 - accuracy: 0.6798 - val_loss: 3.7271 - val_accuracy: 0.2547\n",
      "Epoch 74/100\n",
      "71/71 [==============================] - 1s 8ms/step - loss: 0.8647 - accuracy: 0.6803 - val_loss: 3.7426 - val_accuracy: 0.2474\n",
      "Epoch 75/100\n",
      "71/71 [==============================] - 1s 8ms/step - loss: 0.8603 - accuracy: 0.6837 - val_loss: 3.7605 - val_accuracy: 0.2445\n",
      "Epoch 76/100\n",
      "71/71 [==============================] - 1s 8ms/step - loss: 0.8600 - accuracy: 0.6815 - val_loss: 3.7282 - val_accuracy: 0.2653\n",
      "Epoch 77/100\n",
      "71/71 [==============================] - 1s 8ms/step - loss: 0.8543 - accuracy: 0.6856 - val_loss: 3.7801 - val_accuracy: 0.2454\n",
      "Epoch 78/100\n",
      "71/71 [==============================] - 1s 8ms/step - loss: 0.8510 - accuracy: 0.6852 - val_loss: 3.7920 - val_accuracy: 0.2677\n",
      "Epoch 79/100\n",
      "71/71 [==============================] - 1s 8ms/step - loss: 0.8476 - accuracy: 0.6851 - val_loss: 3.8661 - val_accuracy: 0.2244\n",
      "Epoch 80/100\n",
      "71/71 [==============================] - 1s 8ms/step - loss: 0.8451 - accuracy: 0.6876 - val_loss: 3.9065 - val_accuracy: 0.2310\n",
      "Epoch 81/100\n",
      "71/71 [==============================] - 1s 8ms/step - loss: 0.8405 - accuracy: 0.6890 - val_loss: 3.9270 - val_accuracy: 0.2527\n",
      "Epoch 82/100\n",
      "71/71 [==============================] - 1s 8ms/step - loss: 0.8402 - accuracy: 0.6888 - val_loss: 3.9523 - val_accuracy: 0.2558\n",
      "Epoch 83/100\n",
      "71/71 [==============================] - 1s 8ms/step - loss: 0.8368 - accuracy: 0.6921 - val_loss: 4.0023 - val_accuracy: 0.2442\n",
      "Epoch 84/100\n",
      "71/71 [==============================] - 1s 8ms/step - loss: 0.8338 - accuracy: 0.6914 - val_loss: 4.0259 - val_accuracy: 0.2544\n",
      "Epoch 85/100\n",
      "71/71 [==============================] - 1s 8ms/step - loss: 0.8313 - accuracy: 0.6924 - val_loss: 4.0400 - val_accuracy: 0.2593\n",
      "Epoch 86/100\n",
      "71/71 [==============================] - 1s 8ms/step - loss: 0.8280 - accuracy: 0.6917 - val_loss: 4.0820 - val_accuracy: 0.2714\n",
      "Epoch 87/100\n",
      "71/71 [==============================] - 1s 8ms/step - loss: 0.8245 - accuracy: 0.6944 - val_loss: 4.1038 - val_accuracy: 0.2423\n",
      "Epoch 88/100\n",
      "71/71 [==============================] - 1s 8ms/step - loss: 0.8229 - accuracy: 0.6925 - val_loss: 4.1395 - val_accuracy: 0.2443\n",
      "Epoch 89/100\n",
      "71/71 [==============================] - 1s 8ms/step - loss: 0.8205 - accuracy: 0.6966 - val_loss: 4.1536 - val_accuracy: 0.2681\n",
      "Epoch 90/100\n",
      "71/71 [==============================] - 1s 8ms/step - loss: 0.8163 - accuracy: 0.6972 - val_loss: 4.2043 - val_accuracy: 0.2473\n",
      "Epoch 91/100\n",
      "71/71 [==============================] - 1s 8ms/step - loss: 0.8106 - accuracy: 0.7001 - val_loss: 4.2574 - val_accuracy: 0.2568\n",
      "Epoch 92/100\n",
      "71/71 [==============================] - 1s 8ms/step - loss: 0.8111 - accuracy: 0.6998 - val_loss: 4.2725 - val_accuracy: 0.2542\n",
      "Epoch 93/100\n",
      "71/71 [==============================] - 1s 8ms/step - loss: 0.8056 - accuracy: 0.7029 - val_loss: 4.4196 - val_accuracy: 0.2327\n",
      "Epoch 94/100\n",
      "71/71 [==============================] - 1s 8ms/step - loss: 0.8015 - accuracy: 0.7041 - val_loss: 4.3814 - val_accuracy: 0.2520\n",
      "Epoch 95/100\n",
      "71/71 [==============================] - 1s 8ms/step - loss: 0.7990 - accuracy: 0.7026 - val_loss: 4.4195 - val_accuracy: 0.2416\n",
      "Epoch 96/100\n",
      "71/71 [==============================] - 1s 8ms/step - loss: 0.7961 - accuracy: 0.7066 - val_loss: 4.4302 - val_accuracy: 0.2445\n",
      "Epoch 97/100\n",
      "71/71 [==============================] - 1s 8ms/step - loss: 0.7923 - accuracy: 0.7084 - val_loss: 4.4468 - val_accuracy: 0.2597\n",
      "Epoch 98/100\n",
      "71/71 [==============================] - 1s 8ms/step - loss: 0.7893 - accuracy: 0.7073 - val_loss: 4.5432 - val_accuracy: 0.2619\n",
      "Epoch 99/100\n",
      "71/71 [==============================] - 1s 8ms/step - loss: 0.7857 - accuracy: 0.7104 - val_loss: 4.6382 - val_accuracy: 0.2420\n",
      "Epoch 100/100\n",
      "71/71 [==============================] - 1s 8ms/step - loss: 0.7830 - accuracy: 0.7089 - val_loss: 4.5705 - val_accuracy: 0.2538\n"
     ]
    }
   ],
   "source": [
    "history = model.fit(X_train,\n",
    "                   Y_train,\n",
    "                   epochs=100,\n",
    "                   batch_size=312,\n",
    "                   validation_data=(X_val, Y_val))"
   ]
  },
  {
   "cell_type": "code",
   "execution_count": 495,
   "id": "27610763",
   "metadata": {},
   "outputs": [
    {
     "name": "stdout",
     "output_type": "stream",
     "text": [
      "Minimum Validation Loss: 1.9420\n",
      "0.7104049921035767\n"
     ]
    },
    {
     "data": {
      "text/plain": [
       "<AxesSubplot:>"
      ]
     },
     "execution_count": 495,
     "metadata": {},
     "output_type": "execute_result"
    },
    {
     "data": {
      "image/png": "[encoded data removed]",
      "text/plain": [
       "<Figure size 640x480 with 1 Axes>"
      ]
     },
     "metadata": {},
     "output_type": "display_data"
    },
    {
     "data": {
      "image/png": "[encoded data removed]",
      "text/plain": [
       "<Figure size 640x480 with 1 Axes>"
      ]
     },
     "metadata": {},
     "output_type": "display_data"
    }
   ],
   "source": [
    "history_df = pd.DataFrame(history.history)\n",
    "history_df.loc[:, ['accuracy', 'val_accuracy']].plot()\n",
    "print(\"Minimum Validation Loss: {:0.4f}\".format(history_df['val_loss'].min()));\n",
    "print(history_df[\"accuracy\"].max())\n",
    "history_df.loc[:, ['loss', 'val_loss']].plot()"
   ]
  },
  {
   "cell_type": "code",
   "execution_count": 496,
   "id": "1a233443",
   "metadata": {},
   "outputs": [
    {
     "name": "stdout",
     "output_type": "stream",
     "text": [
      "367/367 [==============================] - 0s 725us/step - loss: 4.6516 - accuracy: 0.2671\n"
     ]
    },
    {
     "data": {
      "text/plain": [
       "[4.651595592498779, 0.26708710193634033]"
      ]
     },
     "execution_count": 496,
     "metadata": {},
     "output_type": "execute_result"
    }
   ],
   "source": [
    "model.evaluate(X_test,Y_test)"
   ]
  },
  {
   "cell_type": "code",
   "execution_count": 497,
   "id": "163381cf",
   "metadata": {},
   "outputs": [
    {
     "data": {
      "text/plain": [
       "array([[0., 1., 0., ..., 0., 0., 0.],\n",
       "       [0., 0., 0., ..., 0., 1., 0.],\n",
       "       [0., 0., 0., ..., 0., 0., 1.],\n",
       "       ...,\n",
       "       [0., 1., 0., ..., 0., 0., 0.],\n",
       "       [1., 0., 0., ..., 0., 0., 0.],\n",
       "       [0., 0., 0., ..., 0., 0., 0.]], dtype=float32)"
      ]
     },
     "execution_count": 497,
     "metadata": {},
     "output_type": "execute_result"
    }
   ],
   "source": [
    "Y_test"
   ]
  },
  {
   "cell_type": "code",
   "execution_count": 530,
   "id": "5ce8221e",
   "metadata": {},
   "outputs": [],
   "source": [
    "a = 28806\n",
    "bım=df2.line[a]\n"
   ]
  },
  {
   "cell_type": "code",
   "execution_count": 531,
   "id": "deec6227",
   "metadata": {},
   "outputs": [],
   "source": [
    "bım2=lavector.transform([bım])"
   ]
  },
  {
   "cell_type": "code",
   "execution_count": 532,
   "id": "66f46901",
   "metadata": {},
   "outputs": [
    {
     "name": "stdout",
     "output_type": "stream",
     "text": [
      "1/1 [==============================] - 0s 8ms/step\n"
     ]
    },
    {
     "data": {
      "text/plain": [
       "3"
      ]
     },
     "execution_count": 532,
     "metadata": {},
     "output_type": "execute_result"
    }
   ],
   "source": [
    "model.predict(bım2).argmax()"
   ]
  },
  {
   "cell_type": "code",
   "execution_count": 533,
   "id": "4d26c047",
   "metadata": {},
   "outputs": [
    {
     "data": {
      "text/plain": [
       "{0: 'Michael',\n",
       " 1: 'Jim',\n",
       " 2: 'Pam',\n",
       " 3: 'Dwight',\n",
       " 4: 'Oscar',\n",
       " 5: 'Angela',\n",
       " 6: 'Kevin',\n",
       " 7: 'Ryan',\n",
       " 8: 'Andy',\n",
       " 9: 'Erin'}"
      ]
     },
     "execution_count": 533,
     "metadata": {},
     "output_type": "execute_result"
    }
   ],
   "source": [
    "i_label\n"
   ]
  },
  {
   "cell_type": "code",
   "execution_count": 534,
   "id": "0befdd55",
   "metadata": {},
   "outputs": [
    {
     "data": {
      "text/plain": [
       "\"you know what you can keep your stupid favor. it's worthless. and this is my dinner on your face. i'm keeping it.\""
      ]
     },
     "execution_count": 534,
     "metadata": {},
     "output_type": "execute_result"
    }
   ],
   "source": [
    "df2.line[a]"
   ]
  },
  {
   "cell_type": "code",
   "execution_count": 535,
   "id": "90a3f8c4",
   "metadata": {},
   "outputs": [
    {
     "data": {
      "text/plain": [
       "'Dwight'"
      ]
     },
     "execution_count": 535,
     "metadata": {},
     "output_type": "execute_result"
    }
   ],
   "source": [
    "df2.speaker[a]"
   ]
  },
  {
   "cell_type": "code",
   "execution_count": 401,
   "id": "c2ecc5a3",
   "metadata": {},
   "outputs": [
    {
     "name": "stdout",
     "output_type": "stream",
     "text": [
      "387/387 [==============================] - 0s 633us/step\n"
     ]
    }
   ],
   "source": [
    "bıma=model.predict(X_test).argmax(axis=1)"
   ]
  },
  {
   "cell_type": "code",
   "execution_count": 402,
   "id": "491dc867",
   "metadata": {},
   "outputs": [
    {
     "data": {
      "text/plain": [
       "0.2468057577227883"
      ]
     },
     "execution_count": 402,
     "metadata": {},
     "output_type": "execute_result"
    }
   ],
   "source": [
    "sum(y_test ==  bıma)/y_test.size"
   ]
  },
  {
   "cell_type": "code",
   "execution_count": null,
   "id": "c951f668",
   "metadata": {},
   "outputs": [],
   "source": []
  }
 ],
 "metadata": {
  "kernelspec": {
   "display_name": "Python 3 (ipykernel)",
   "language": "python",
   "name": "python3"
  },
  "language_info": {
   "codemirror_mode": {
    "name": "ipython",
    "version": 3
   },
   "file_extension": ".py",
   "mimetype": "text/x-python",
   "name": "python",
   "nbconvert_exporter": "python",
   "pygments_lexer": "ipython3",
   "version": "3.7.16"
  }
 },
 "nbformat": 4,
 "nbformat_minor": 5
}
