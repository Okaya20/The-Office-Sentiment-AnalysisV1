{
 "cells": [
  {
   "cell_type": "code",
   "execution_count": 1,
   "id": "10dd8d63",
   "metadata": {},
   "outputs": [],
   "source": [
    "import pandas as pd\n",
    "import numpy as np\n",
    "import matplotlib.pyplot as plt # for making figures\n",
    "import os    \n",
    "os.environ['KMP_DUPLICATE_LIB_OK'] = 'True'\n",
    "import re\n",
    "from sklearn.feature_extraction.text import CountVectorizer\n",
    "from sklearn.naive_bayes import MultinomialNB\n",
    "from sklearn.model_selection import train_test_split\n",
    "from sklearn.metrics import plot_confusion_matrix\n",
    "from sklearn.metrics import confusion_matrix\n",
    "import seaborn as sns\n",
    "from timeit import default_timer as timer  #for checking run time\n",
    "from datetime import timedelta\n",
    "from tensorflow.keras.utils import to_categorical\n",
    "from tensorflow.keras.layers import Input, Dense, Embedding, LSTM, Dropout, Bidirectional, GlobalMaxPooling1D\n",
    "from tensorflow.keras.models import Model\n",
    "from tensorflow.keras.optimizers import Adam\n",
    "from tensorflow.keras.models import Sequential\n",
    "from sklearn.model_selection import train_test_split\n",
    "from tensorflow.keras.preprocessing.sequence import pad_sequences\n",
    "from tensorflow.keras import callbacks\n",
    "from keras.callbacks import EarlyStopping\n",
    "from keras.optimizers import SGD\n",
    "from tensorflow.keras.layers import BatchNormalization\n",
    "from keras import models\n",
    "from keras import layers"
   ]
  },
  {
   "cell_type": "code",
   "execution_count": 2,
   "id": "09bea90a",
   "metadata": {},
   "outputs": [
    {
     "name": "stdout",
     "output_type": "stream",
     "text": [
      "dataset has 6 columns \n",
      "dataset has 54167 rows\n"
     ]
    },
    {
     "data": {
      "text/html": [
       "<div>\n",
       "<style scoped>\n",
       "    .dataframe tbody tr th:only-of-type {\n",
       "        vertical-align: middle;\n",
       "    }\n",
       "\n",
       "    .dataframe tbody tr th {\n",
       "        vertical-align: top;\n",
       "    }\n",
       "\n",
       "    .dataframe thead th {\n",
       "        text-align: right;\n",
       "    }\n",
       "</style>\n",
       "<table border=\"1\" class=\"dataframe\">\n",
       "  <thead>\n",
       "    <tr style=\"text-align: right;\">\n",
       "      <th></th>\n",
       "      <th>season</th>\n",
       "      <th>episode</th>\n",
       "      <th>title</th>\n",
       "      <th>scene</th>\n",
       "      <th>speaker</th>\n",
       "      <th>line</th>\n",
       "    </tr>\n",
       "  </thead>\n",
       "  <tbody>\n",
       "    <tr>\n",
       "      <th>0</th>\n",
       "      <td>1</td>\n",
       "      <td>1</td>\n",
       "      <td>Pilot</td>\n",
       "      <td>1</td>\n",
       "      <td>Michael</td>\n",
       "      <td>All right Jim. Your quarterlies look very good...</td>\n",
       "    </tr>\n",
       "    <tr>\n",
       "      <th>1</th>\n",
       "      <td>1</td>\n",
       "      <td>1</td>\n",
       "      <td>Pilot</td>\n",
       "      <td>1</td>\n",
       "      <td>Jim</td>\n",
       "      <td>Oh, I told you. I couldn't close it. So...</td>\n",
       "    </tr>\n",
       "    <tr>\n",
       "      <th>2</th>\n",
       "      <td>1</td>\n",
       "      <td>1</td>\n",
       "      <td>Pilot</td>\n",
       "      <td>1</td>\n",
       "      <td>Michael</td>\n",
       "      <td>So you've come to the master for guidance? Is ...</td>\n",
       "    </tr>\n",
       "  </tbody>\n",
       "</table>\n",
       "</div>"
      ],
      "text/plain": [
       "   season  episode  title  scene  speaker  \\\n",
       "0       1        1  Pilot      1  Michael   \n",
       "1       1        1  Pilot      1      Jim   \n",
       "2       1        1  Pilot      1  Michael   \n",
       "\n",
       "                                                line  \n",
       "0  All right Jim. Your quarterlies look very good...  \n",
       "1         Oh, I told you. I couldn't close it. So...  \n",
       "2  So you've come to the master for guidance? Is ...  "
      ]
     },
     "execution_count": 2,
     "metadata": {},
     "output_type": "execute_result"
    }
   ],
   "source": [
    "df = pd.read_csv(\"The-Office-Lines-V2.csv\")\n",
    "print(f\"dataset has {df.columns.shape[0]} columns \\ndataset has {df.shape[0]} rows\")\n",
    "df.head(3)"
   ]
  },
  {
   "cell_type": "code",
   "execution_count": 3,
   "id": "78a4af56",
   "metadata": {},
   "outputs": [
    {
     "data": {
      "text/plain": [
       "season     0\n",
       "episode    0\n",
       "title      0\n",
       "scene      0\n",
       "speaker    0\n",
       "line       0\n",
       "dtype: int64"
      ]
     },
     "execution_count": 3,
     "metadata": {},
     "output_type": "execute_result"
    }
   ],
   "source": [
    "df.isnull().sum()  #no missing value"
   ]
  },
  {
   "cell_type": "code",
   "execution_count": 4,
   "id": "cf8ae9a2",
   "metadata": {},
   "outputs": [
    {
     "data": {
      "text/plain": [
       "season      int64\n",
       "episode     int64\n",
       "title      object\n",
       "scene       int64\n",
       "speaker    object\n",
       "line       object\n",
       "dtype: object"
      ]
     },
     "execution_count": 4,
     "metadata": {},
     "output_type": "execute_result"
    }
   ],
   "source": [
    "df.dtypes # we have 3 integer/numeric and 3 object columns"
   ]
  },
  {
   "cell_type": "code",
   "execution_count": 5,
   "id": "4d28d41d",
   "metadata": {},
   "outputs": [
    {
     "data": {
      "text/plain": [
       "dict_keys(['season', 'episode', 'title', 'scene', 'speaker'])"
      ]
     },
     "execution_count": 5,
     "metadata": {},
     "output_type": "execute_result"
    }
   ],
   "source": [
    "dicct ={}\n",
    "for i in range(5):\n",
    "    dicct[df.iloc[:,i].name] = df.iloc[:,i].unique()\n",
    "dicct.keys()"
   ]
  },
  {
   "cell_type": "code",
   "execution_count": 6,
   "id": "65371eeb",
   "metadata": {},
   "outputs": [
    {
     "data": {
      "text/plain": [
       "777"
      ]
     },
     "execution_count": 6,
     "metadata": {},
     "output_type": "execute_result"
    }
   ],
   "source": [
    "len(dicct[\"speaker\"])"
   ]
  },
  {
   "cell_type": "code",
   "execution_count": 21,
   "id": "7382762b",
   "metadata": {},
   "outputs": [
    {
     "data": {
      "text/plain": [
       "['Michael', 'Dwight', 'Jim', 'Pam', 'Andy']"
      ]
     },
     "execution_count": 21,
     "metadata": {},
     "output_type": "execute_result"
    }
   ],
   "source": [
    "mostchar=df.groupby(by=\"speaker\",sort=False).agg({\"speaker\":\"count\"}).rename_axis(\"index\").sort_values(by=\"speaker\",ascending=False)[:5].index\n",
    "mostchar.tolist()"
   ]
  },
  {
   "cell_type": "code",
   "execution_count": 22,
   "id": "e4e7a596",
   "metadata": {},
   "outputs": [],
   "source": [
    "df2=df[df.speaker.isin(mostchar)]"
   ]
  },
  {
   "cell_type": "code",
   "execution_count": 23,
   "id": "0967703e",
   "metadata": {},
   "outputs": [
    {
     "data": {
      "text/plain": [
       "13117    232\n",
       "3385     164\n",
       "34647    163\n",
       "12191    159\n",
       "28356    157\n",
       "Name: line, dtype: int64"
      ]
     },
     "execution_count": 23,
     "metadata": {},
     "output_type": "execute_result"
    }
   ],
   "source": [
    "bım=lambda x:len(x.split())  #finding line lengtg\n",
    "df2[\"line\"].apply(bım).sort_values(ascending =False).head()  #length of lines"
   ]
  },
  {
   "cell_type": "code",
   "execution_count": 24,
   "id": "b21fc295",
   "metadata": {
    "scrolled": true
   },
   "outputs": [
    {
     "data": {
      "text/html": [
       "<div>\n",
       "<style scoped>\n",
       "    .dataframe tbody tr th:only-of-type {\n",
       "        vertical-align: middle;\n",
       "    }\n",
       "\n",
       "    .dataframe tbody tr th {\n",
       "        vertical-align: top;\n",
       "    }\n",
       "\n",
       "    .dataframe thead th {\n",
       "        text-align: right;\n",
       "    }\n",
       "</style>\n",
       "<table border=\"1\" class=\"dataframe\">\n",
       "  <thead>\n",
       "    <tr style=\"text-align: right;\">\n",
       "      <th></th>\n",
       "      <th>season</th>\n",
       "      <th>episode</th>\n",
       "      <th>title</th>\n",
       "      <th>scene</th>\n",
       "      <th>speaker</th>\n",
       "      <th>line</th>\n",
       "      <th>linecount</th>\n",
       "    </tr>\n",
       "  </thead>\n",
       "  <tbody>\n",
       "    <tr>\n",
       "      <th>0</th>\n",
       "      <td>1</td>\n",
       "      <td>1</td>\n",
       "      <td>Pilot</td>\n",
       "      <td>1</td>\n",
       "      <td>Michael</td>\n",
       "      <td>All right Jim. Your quarterlies look very good...</td>\n",
       "      <td>14</td>\n",
       "    </tr>\n",
       "    <tr>\n",
       "      <th>1</th>\n",
       "      <td>1</td>\n",
       "      <td>1</td>\n",
       "      <td>Pilot</td>\n",
       "      <td>1</td>\n",
       "      <td>Jim</td>\n",
       "      <td>Oh, I told you. I couldn't close it. So...</td>\n",
       "      <td>9</td>\n",
       "    </tr>\n",
       "    <tr>\n",
       "      <th>2</th>\n",
       "      <td>1</td>\n",
       "      <td>1</td>\n",
       "      <td>Pilot</td>\n",
       "      <td>1</td>\n",
       "      <td>Michael</td>\n",
       "      <td>So you've come to the master for guidance? Is ...</td>\n",
       "      <td>14</td>\n",
       "    </tr>\n",
       "    <tr>\n",
       "      <th>3</th>\n",
       "      <td>1</td>\n",
       "      <td>1</td>\n",
       "      <td>Pilot</td>\n",
       "      <td>1</td>\n",
       "      <td>Jim</td>\n",
       "      <td>Actually, you called me in here, but yeah.</td>\n",
       "      <td>8</td>\n",
       "    </tr>\n",
       "    <tr>\n",
       "      <th>4</th>\n",
       "      <td>1</td>\n",
       "      <td>1</td>\n",
       "      <td>Pilot</td>\n",
       "      <td>1</td>\n",
       "      <td>Michael</td>\n",
       "      <td>All right. Well, let me show you how it's done.</td>\n",
       "      <td>10</td>\n",
       "    </tr>\n",
       "    <tr>\n",
       "      <th>7</th>\n",
       "      <td>1</td>\n",
       "      <td>1</td>\n",
       "      <td>Pilot</td>\n",
       "      <td>3</td>\n",
       "      <td>Pam</td>\n",
       "      <td>Well. I don't know.</td>\n",
       "      <td>4</td>\n",
       "    </tr>\n",
       "    <tr>\n",
       "      <th>8</th>\n",
       "      <td>1</td>\n",
       "      <td>1</td>\n",
       "      <td>Pilot</td>\n",
       "      <td>3</td>\n",
       "      <td>Michael</td>\n",
       "      <td>If you think she's cute now, you should have s...</td>\n",
       "      <td>16</td>\n",
       "    </tr>\n",
       "    <tr>\n",
       "      <th>10</th>\n",
       "      <td>1</td>\n",
       "      <td>1</td>\n",
       "      <td>Pilot</td>\n",
       "      <td>3</td>\n",
       "      <td>Michael</td>\n",
       "      <td>Any messages?</td>\n",
       "      <td>2</td>\n",
       "    </tr>\n",
       "    <tr>\n",
       "      <th>11</th>\n",
       "      <td>1</td>\n",
       "      <td>1</td>\n",
       "      <td>Pilot</td>\n",
       "      <td>3</td>\n",
       "      <td>Pam</td>\n",
       "      <td>Uh, yeah. Just a fax.</td>\n",
       "      <td>5</td>\n",
       "    </tr>\n",
       "    <tr>\n",
       "      <th>13</th>\n",
       "      <td>1</td>\n",
       "      <td>1</td>\n",
       "      <td>Pilot</td>\n",
       "      <td>3</td>\n",
       "      <td>Pam</td>\n",
       "      <td>You haven't told me.</td>\n",
       "      <td>4</td>\n",
       "    </tr>\n",
       "  </tbody>\n",
       "</table>\n",
       "</div>"
      ],
      "text/plain": [
       "    season  episode  title  scene  speaker  \\\n",
       "0        1        1  Pilot      1  Michael   \n",
       "1        1        1  Pilot      1      Jim   \n",
       "2        1        1  Pilot      1  Michael   \n",
       "3        1        1  Pilot      1      Jim   \n",
       "4        1        1  Pilot      1  Michael   \n",
       "7        1        1  Pilot      3      Pam   \n",
       "8        1        1  Pilot      3  Michael   \n",
       "10       1        1  Pilot      3  Michael   \n",
       "11       1        1  Pilot      3      Pam   \n",
       "13       1        1  Pilot      3      Pam   \n",
       "\n",
       "                                                 line  linecount  \n",
       "0   All right Jim. Your quarterlies look very good...         14  \n",
       "1          Oh, I told you. I couldn't close it. So...          9  \n",
       "2   So you've come to the master for guidance? Is ...         14  \n",
       "3          Actually, you called me in here, but yeah.          8  \n",
       "4     All right. Well, let me show you how it's done.         10  \n",
       "7                                 Well. I don't know.          4  \n",
       "8   If you think she's cute now, you should have s...         16  \n",
       "10                                      Any messages?          2  \n",
       "11                              Uh, yeah. Just a fax.          5  \n",
       "13                               You haven't told me.          4  "
      ]
     },
     "execution_count": 24,
     "metadata": {},
     "output_type": "execute_result"
    }
   ],
   "source": [
    "df3 = df2.copy()\n",
    "df3[\"linecount\"] = df2[\"line\"].apply(bım)\n",
    "df4=df3[(df3[\"linecount\"]<=20) & (df3[\"linecount\"]>1)]\n",
    "df4.head(10) #an alternative approach would be this, this performs better with Multinominal NB but it does not affect NN"
   ]
  },
  {
   "cell_type": "code",
   "execution_count": 25,
   "id": "a6b32e89",
   "metadata": {},
   "outputs": [
    {
     "data": {
      "text/plain": [
       "(0.0, 50.0)"
      ]
     },
     "execution_count": 25,
     "metadata": {},
     "output_type": "execute_result"
    },
    {
     "data": {
      "image/png": "[encoded data removed]",
      "text/plain": [
       "<Figure size 1500x600 with 2 Axes>"
      ]
     },
     "metadata": {},
     "output_type": "display_data"
    }
   ],
   "source": [
    "word_count=df2[\"line\"].apply(bım).sort_values(ascending =False)\n",
    "\n",
    "fig, (ax1, ax2) = plt.subplots(1, 2,figsize=(15,6))\n",
    "fig.suptitle('Word Count Analysis')\n",
    "\n",
    "ax1.hist(word_count,log=True)\n",
    "ax1.set_xlabel('Word count')\n",
    "ax1.set_ylabel(\"Line log-count\")\n",
    "\n",
    "ax2.hist(word_count,color=\"orange\")\n",
    "ax2.set_xlabel('Word Count')\n",
    "ax2.set_ylabel('Line Count')\n",
    "ax2.set_xlim(0,50)\n"
   ]
  },
  {
   "cell_type": "code",
   "execution_count": 37,
   "id": "295c7b91",
   "metadata": {},
   "outputs": [
    {
     "data": {
      "text/plain": [
       "0        Michael\n",
       "1            Jim\n",
       "2        Michael\n",
       "3            Jim\n",
       "4        Michael\n",
       "          ...   \n",
       "54143       Andy\n",
       "54147        Jim\n",
       "54149        Jim\n",
       "54165        Jim\n",
       "54166        Pam\n",
       "Name: speaker, Length: 32166, dtype: object"
      ]
     },
     "execution_count": 37,
     "metadata": {},
     "output_type": "execute_result"
    }
   ],
   "source": [
    "x1 = df2.line\n",
    "x1\n",
    "y1 = df2.speaker\n",
    "y1"
   ]
  },
  {
   "cell_type": "code",
   "execution_count": 38,
   "id": "e5f5f549",
   "metadata": {},
   "outputs": [],
   "source": [
    "class sentimentanalysis(object):\n",
    "    \n",
    "    def fit_str(self,stringg:str):   #In the end i have learned that column vectorizer figures this one out but for using strict this needed\n",
    "        stringg = stringg.lower() \n",
    "        self.arr= np.array(\" \".join(re.split(\"\\s+\", stringg, flags=re.UNICODE)).split())\n",
    "        return self.arr\n",
    "    \n",
    "    def fit_array(self,array:np.array): #this also not very necessary, at least last part is called at Predict\n",
    "        length = array.size\n",
    "        for a in range(length):\n",
    "            array[a] = array[a].lower()\n",
    "            array[a] =\" \".join(re.split(\"\\s+\", array[a], flags=re.UNICODE))\n",
    "        array = self.cv.transform(array)\n",
    "        return array\n",
    "    \n",
    "    def processDataFrame(self,data,label1:str,label2:str): # If you want to train model and you only have a dataframe\n",
    "        \n",
    "\n",
    "        data2=data.copy()\n",
    "        data2[label1+\" processed\"] =data2[label1].apply(lambda x: \" \".join(self.fit_str(x)))\n",
    "        self.data2 = data2\n",
    "        self.label1 = label1\n",
    "        self.label2 = label2\n",
    "        self.x=np.array(self.data2[self.label1])\n",
    "        self.y=np.array(self.data2[self.label2])\n",
    "        \n",
    "    def model_train_test_build(self,y = None,x=None): #if you have x and y just use this one\n",
    "        if x is None:\n",
    "            x = self.x\n",
    "        else:\n",
    "            x = x\n",
    "        if y is None:\n",
    "            y = self.y\n",
    "        else:\n",
    "            y  = y\n",
    "            \n",
    "        self.cv = CountVectorizer()\n",
    "        self.clf = MultinomialNB()\n",
    "        X_train, X_test, y_train, y_test = train_test_split(x, y, test_size=0.3 )\n",
    "        X_train =self.cv.fit_transform(X_train)\n",
    "        X_test = self.cv.transform(X_test)\n",
    "        self.clf.fit(X_train,y_train)\n",
    "        pred = self.clf.predict(X_test)\n",
    "        if np.unique(y).size == 2:\n",
    "            \n",
    "            self.matrix=confusion_matrix(y_test,pred)\n",
    "            sns.set(font_scale=1.5)\n",
    "            fig, ax = plt.subplots(figsize=(3, 3))\n",
    "            ax = sns.heatmap(self.matrix,\n",
    "                     annot=True,\n",
    "                     cbar=False)\n",
    "            plt.xlabel(\"Predicted label\")\n",
    "            plt.ylabel(\"True label\")\n",
    "        print(\"Accuracy : \",sum(pred==y_test)/y_test.size)\n",
    "        \n",
    "    def Predict(self,inp=None):  #After all steps use this, you may just give an string or a array of strings\n",
    "    \n",
    "        if inp is None:\n",
    "            inp = str(input())\n",
    "\n",
    "        \n",
    "        if type(inp) == str:\n",
    "            inp = np.array([\" \".join((self.fit_str(inp)))])\n",
    "            inp = self.cv.transform(inp)\n",
    "            return self.clf.predict(inp)\n",
    "        elif type(inp)==np.ndarray:\n",
    "            inp  = self.fit_array(inp)\n",
    "            return self.clf.predict(inp)\n",
    "        else:\n",
    "            print(\"Please give array or string\")"
   ]
  },
  {
   "cell_type": "code",
   "execution_count": 39,
   "id": "72f61ce8",
   "metadata": {},
   "outputs": [],
   "source": [
    "dtc = sentimentanalysis()"
   ]
  },
  {
   "cell_type": "code",
   "execution_count": 45,
   "id": "4dc9a27e",
   "metadata": {},
   "outputs": [
    {
     "name": "stdout",
     "output_type": "stream",
     "text": [
      "Accuracy :  0.3861139896373057\n"
     ]
    }
   ],
   "source": [
    "dtc.processDataFrame(df2,\"line\",\"speaker\")\n",
    "\n",
    "dtc.model_train_test_build()\n"
   ]
  },
  {
   "cell_type": "code",
   "execution_count": 46,
   "id": "01184ba3",
   "metadata": {},
   "outputs": [
    {
     "data": {
      "text/plain": [
       "(array(['Andy', 'Dwight', 'Jim', 'Michael', 'Pam'], dtype=object),\n",
       " array([ 3658,  6707,  6156, 10712,  4933], dtype=int64))"
      ]
     },
     "execution_count": 46,
     "metadata": {},
     "output_type": "execute_result"
    }
   ],
   "source": [
    "np.unique(y1.values,return_counts=True)"
   ]
  },
  {
   "cell_type": "code",
   "execution_count": 47,
   "id": "1eb5cea1",
   "metadata": {},
   "outputs": [
    {
     "data": {
      "text/plain": [
       "0.48268357893427843"
      ]
     },
     "execution_count": 47,
     "metadata": {},
     "output_type": "execute_result"
    }
   ],
   "source": [
    "sum(dtc.Predict(x1.values) == y1.values)/y1.values.size"
   ]
  },
  {
   "cell_type": "code",
   "execution_count": 48,
   "id": "2fce9db6",
   "metadata": {},
   "outputs": [],
   "source": [
    "data=np.unique(dtc.Predict(x1.values),return_counts=True)"
   ]
  },
  {
   "cell_type": "code",
   "execution_count": 52,
   "id": "b32f762f",
   "metadata": {},
   "outputs": [
    {
     "data": {
      "text/html": [
       "<div>\n",
       "<style scoped>\n",
       "    .dataframe tbody tr th:only-of-type {\n",
       "        vertical-align: middle;\n",
       "    }\n",
       "\n",
       "    .dataframe tbody tr th {\n",
       "        vertical-align: top;\n",
       "    }\n",
       "\n",
       "    .dataframe thead th {\n",
       "        text-align: right;\n",
       "    }\n",
       "</style>\n",
       "<table border=\"1\" class=\"dataframe\">\n",
       "  <thead>\n",
       "    <tr style=\"text-align: right;\">\n",
       "      <th></th>\n",
       "      <th>speaker</th>\n",
       "    </tr>\n",
       "    <tr>\n",
       "      <th>index</th>\n",
       "      <th></th>\n",
       "    </tr>\n",
       "  </thead>\n",
       "  <tbody>\n",
       "    <tr>\n",
       "      <th>Michael</th>\n",
       "      <td>10712</td>\n",
       "    </tr>\n",
       "    <tr>\n",
       "      <th>Dwight</th>\n",
       "      <td>6707</td>\n",
       "    </tr>\n",
       "    <tr>\n",
       "      <th>Jim</th>\n",
       "      <td>6156</td>\n",
       "    </tr>\n",
       "    <tr>\n",
       "      <th>Pam</th>\n",
       "      <td>4933</td>\n",
       "    </tr>\n",
       "    <tr>\n",
       "      <th>Andy</th>\n",
       "      <td>3658</td>\n",
       "    </tr>\n",
       "    <tr>\n",
       "      <th>Angela</th>\n",
       "      <td>1529</td>\n",
       "    </tr>\n",
       "    <tr>\n",
       "      <th>Kevin</th>\n",
       "      <td>1516</td>\n",
       "    </tr>\n",
       "    <tr>\n",
       "      <th>Erin</th>\n",
       "      <td>1401</td>\n",
       "    </tr>\n",
       "    <tr>\n",
       "      <th>Oscar</th>\n",
       "      <td>1320</td>\n",
       "    </tr>\n",
       "    <tr>\n",
       "      <th>Ryan</th>\n",
       "      <td>1181</td>\n",
       "    </tr>\n",
       "  </tbody>\n",
       "</table>\n",
       "</div>"
      ],
      "text/plain": [
       "         speaker\n",
       "index           \n",
       "Michael    10712\n",
       "Dwight      6707\n",
       "Jim         6156\n",
       "Pam         4933\n",
       "Andy        3658\n",
       "Angela      1529\n",
       "Kevin       1516\n",
       "Erin        1401\n",
       "Oscar       1320\n",
       "Ryan        1181"
      ]
     },
     "execution_count": 52,
     "metadata": {},
     "output_type": "execute_result"
    }
   ],
   "source": [
    "dfforiginal"
   ]
  },
  {
   "cell_type": "code",
   "execution_count": 53,
   "id": "e54cd6c0",
   "metadata": {},
   "outputs": [],
   "source": [
    "dff=pd.DataFrame(data).T\n",
    "dff=dff.set_index(0).rename_axis(\"index\").rename(columns={1:\"model's\"})\n",
    "dfforiginal=df2.groupby(by=\"speaker\",sort=False).agg({\"speaker\":\"count\"}).rename_axis(\"index\").sort_values(by=\"speaker\",ascending=False)[:10]"
   ]
  },
  {
   "cell_type": "code",
   "execution_count": 54,
   "id": "3d77a95a",
   "metadata": {},
   "outputs": [
    {
     "data": {
      "text/html": [
       "<div>\n",
       "<style scoped>\n",
       "    .dataframe tbody tr th:only-of-type {\n",
       "        vertical-align: middle;\n",
       "    }\n",
       "\n",
       "    .dataframe tbody tr th {\n",
       "        vertical-align: top;\n",
       "    }\n",
       "\n",
       "    .dataframe thead th {\n",
       "        text-align: right;\n",
       "    }\n",
       "</style>\n",
       "<table border=\"1\" class=\"dataframe\">\n",
       "  <thead>\n",
       "    <tr style=\"text-align: right;\">\n",
       "      <th></th>\n",
       "      <th>index</th>\n",
       "      <th>original</th>\n",
       "      <th>model's</th>\n",
       "    </tr>\n",
       "  </thead>\n",
       "  <tbody>\n",
       "    <tr>\n",
       "      <th>0</th>\n",
       "      <td>Michael</td>\n",
       "      <td>10712</td>\n",
       "      <td>22194</td>\n",
       "    </tr>\n",
       "    <tr>\n",
       "      <th>1</th>\n",
       "      <td>Dwight</td>\n",
       "      <td>6707</td>\n",
       "      <td>3747</td>\n",
       "    </tr>\n",
       "    <tr>\n",
       "      <th>2</th>\n",
       "      <td>Jim</td>\n",
       "      <td>6156</td>\n",
       "      <td>3642</td>\n",
       "    </tr>\n",
       "    <tr>\n",
       "      <th>3</th>\n",
       "      <td>Pam</td>\n",
       "      <td>4933</td>\n",
       "      <td>1526</td>\n",
       "    </tr>\n",
       "    <tr>\n",
       "      <th>4</th>\n",
       "      <td>Andy</td>\n",
       "      <td>3658</td>\n",
       "      <td>1057</td>\n",
       "    </tr>\n",
       "  </tbody>\n",
       "</table>\n",
       "</div>"
      ],
      "text/plain": [
       "     index  original model's\n",
       "0  Michael     10712   22194\n",
       "1   Dwight      6707    3747\n",
       "2      Jim      6156    3642\n",
       "3      Pam      4933    1526\n",
       "4     Andy      3658    1057"
      ]
     },
     "execution_count": 54,
     "metadata": {},
     "output_type": "execute_result"
    }
   ],
   "source": [
    "df_merged= dfforiginal.join(dff).rename(columns={\"speaker\":\"original\"}).reset_index()\n",
    "df_merged\n",
    "#here comes to melting\n",
    "df_last = df_merged.melt(id_vars=[\"index\"],var_name=\"original_or_model\",value_name=\"line_count\")\n",
    "df_last\n",
    "df_merged"
   ]
  },
  {
   "cell_type": "code",
   "execution_count": 55,
   "id": "2c387d09",
   "metadata": {},
   "outputs": [
    {
     "data": {
      "text/plain": [
       "Text(0.5, 0, 'Characters')"
      ]
     },
     "execution_count": 55,
     "metadata": {},
     "output_type": "execute_result"
    },
    {
     "data": {
      "image/png": "[encoded data removed]",
      "text/plain": [
       "<Figure size 1500x600 with 2 Axes>"
      ]
     },
     "metadata": {},
     "output_type": "display_data"
    }
   ],
   "source": [
    "\n",
    "sns.set_style('whitegrid')\n",
    "fig, (ax1, ax2) = plt.subplots(1, 2,figsize=(15,6),sharex=True)\n",
    "fig.suptitle('Line Count Analysis')\n",
    "\n",
    "sns.barplot(x='index', y='line_count', hue='original_or_model', data=df_last, palette='hls',ax=ax1)\n",
    "sns.barplot(x='index', y='line_count', hue='original_or_model', data=df_last, palette='tab10',ax = ax2,log=True)\n",
    "ax1.set_xlabel('Characters')\n",
    "ax2.set_xlabel('Characters')\n",
    "\n",
    "\n"
   ]
  },
  {
   "cell_type": "code",
   "execution_count": 56,
   "id": "30808659",
   "metadata": {},
   "outputs": [
    {
     "name": "stdout",
     "output_type": "stream",
     "text": [
      "7492\n",
      "Dwight\n",
      "michael referred me to a male strip club called banana slings. instead, i called the scholastic speakers of pennsylvania.\n"
     ]
    }
   ],
   "source": [
    "\n",
    "aa=int(input())\n",
    "print(df2.speaker[aa])\n",
    "print(dtc.x[aa])\n"
   ]
  },
  {
   "cell_type": "code",
   "execution_count": 57,
   "id": "db401286",
   "metadata": {},
   "outputs": [
    {
     "data": {
      "text/plain": [
       "array(['Dwight'], dtype='<U7')"
      ]
     },
     "execution_count": 57,
     "metadata": {},
     "output_type": "execute_result"
    }
   ],
   "source": [
    "dtc.Predict(dtc.x[aa])"
   ]
  },
  {
   "cell_type": "code",
   "execution_count": 58,
   "id": "0f6bc522",
   "metadata": {},
   "outputs": [
    {
     "data": {
      "text/plain": [
       "{0: 'Michael', 1: 'Jim', 2: 'Pam', 3: 'Dwight', 4: 'Andy'}"
      ]
     },
     "execution_count": 58,
     "metadata": {},
     "output_type": "execute_result"
    }
   ],
   "source": [
    "X3 = df2.line\n",
    "X3\n",
    "y3 = df2.speaker\n",
    "y3\n",
    "labels=y3.unique().tolist()\n",
    "labels2 = {i[1]:i[0] for i in enumerate(labels)}\n",
    "labels2\n",
    "y_labels_all=df2.replace(labels2)[\"speaker\"]\n",
    "y_labels_all\n",
    "i_label = {value:key for key,value in labels2.items()}\n",
    "i_label"
   ]
  },
  {
   "cell_type": "code",
   "execution_count": 59,
   "id": "55f90d89",
   "metadata": {},
   "outputs": [
    {
     "data": {
      "text/plain": [
       "0        0\n",
       "1        1\n",
       "2        0\n",
       "3        1\n",
       "4        0\n",
       "        ..\n",
       "54143    4\n",
       "54147    1\n",
       "54149    1\n",
       "54165    1\n",
       "54166    2\n",
       "Name: speaker, Length: 32166, dtype: int64"
      ]
     },
     "execution_count": 59,
     "metadata": {},
     "output_type": "execute_result"
    }
   ],
   "source": [
    "y_labels_all"
   ]
  },
  {
   "cell_type": "code",
   "execution_count": 60,
   "id": "966d24ab",
   "metadata": {},
   "outputs": [
    {
     "data": {
      "text/plain": [
       "(32166, 15274)"
      ]
     },
     "execution_count": 60,
     "metadata": {},
     "output_type": "execute_result"
    }
   ],
   "source": [
    "lavector = CountVectorizer()\n",
    "X4=lavector.fit_transform(X3)\n",
    "X4.shape"
   ]
  },
  {
   "cell_type": "code",
   "execution_count": 108,
   "id": "b13dac83",
   "metadata": {},
   "outputs": [],
   "source": [
    "X_train_val, X_test, y_train_val, y_test = train_test_split(X3, y_labels_all,stratify=y_labels_all ,test_size=0.2 )\n",
    "#,stratify=y_labels_all"
   ]
  },
  {
   "cell_type": "code",
   "execution_count": 109,
   "id": "297ac316",
   "metadata": {},
   "outputs": [],
   "source": [
    "X_train,X_val,y_train,y_val =train_test_split(X_train_val,y_train_val ,stratify=y_train_val,test_size = 0.1)\n",
    "#,stratify=y_train_val"
   ]
  },
  {
   "cell_type": "code",
   "execution_count": 110,
   "id": "65de8b6d",
   "metadata": {},
   "outputs": [],
   "source": [
    "Y_train = to_categorical(y_train)\n",
    "Y_val = to_categorical(y_val)\n",
    "Y_test = to_categorical(y_test)"
   ]
  },
  {
   "cell_type": "code",
   "execution_count": 111,
   "id": "aeb4685c",
   "metadata": {},
   "outputs": [
    {
     "data": {
      "text/plain": [
       "(23158, 13030)"
      ]
     },
     "execution_count": 111,
     "metadata": {},
     "output_type": "execute_result"
    }
   ],
   "source": [
    "lavector = CountVectorizer()\n",
    "\n",
    "X_train =lavector.fit_transform(X_train)\n",
    "X_val = lavector.transform(X_val)\n",
    "X_test = lavector.transform(X_test)\n",
    "\n",
    "X_train.shape"
   ]
  },
  {
   "cell_type": "code",
   "execution_count": 112,
   "id": "afa08e95",
   "metadata": {},
   "outputs": [],
   "source": [
    "X_val =X_val.astype('float32')\n",
    "X_train = X_train.astype('float32')\n",
    "X_test = X_test.astype('float32')"
   ]
  },
  {
   "cell_type": "code",
   "execution_count": 113,
   "id": "50a1fad6",
   "metadata": {},
   "outputs": [
    {
     "data": {
      "text/plain": [
       "(23158, 13030)"
      ]
     },
     "execution_count": 113,
     "metadata": {},
     "output_type": "execute_result"
    }
   ],
   "source": [
    "X_train.shape"
   ]
  },
  {
   "cell_type": "code",
   "execution_count": 114,
   "id": "f1a50ae0",
   "metadata": {},
   "outputs": [
    {
     "data": {
      "text/plain": [
       "(6434, 13030)"
      ]
     },
     "execution_count": 114,
     "metadata": {},
     "output_type": "execute_result"
    }
   ],
   "source": [
    "X_test.shape"
   ]
  },
  {
   "cell_type": "code",
   "execution_count": 115,
   "id": "8d2cf04e",
   "metadata": {
    "scrolled": true
   },
   "outputs": [
    {
     "data": {
      "text/plain": [
       "(2574, 13030)"
      ]
     },
     "execution_count": 115,
     "metadata": {},
     "output_type": "execute_result"
    }
   ],
   "source": [
    "X_val.shape"
   ]
  },
  {
   "cell_type": "code",
   "execution_count": 116,
   "id": "e4ee0eba",
   "metadata": {},
   "outputs": [
    {
     "data": {
      "text/plain": [
       "{0: 'Michael', 1: 'Jim', 2: 'Pam', 3: 'Dwight', 4: 'Andy'}"
      ]
     },
     "execution_count": 116,
     "metadata": {},
     "output_type": "execute_result"
    }
   ],
   "source": [
    "i_label"
   ]
  },
  {
   "cell_type": "code",
   "execution_count": 117,
   "id": "f4ddc635",
   "metadata": {},
   "outputs": [],
   "source": [
    "model = models.Sequential()\n",
    "\n",
    "model.add(layers.Dense(128, activation='sigmoid', input_shape = (X_train.shape[1],),bias_initializer='ones',kernel_initializer='random_uniform'))\n",
    "model.add(Dropout(0.2))\n",
    "model.add(layers.Dense(128, activation='tanh' ,bias_initializer='zeros',kernel_initializer='random_uniform'))\n",
    "model.add(BatchNormalization())\n",
    "model.add(layers.Dense(len(i_label), activation='softmax',bias_initializer='zeros',kernel_initializer='random_uniform'))"
   ]
  },
  {
   "cell_type": "code",
   "execution_count": 118,
   "id": "75f7b49f",
   "metadata": {},
   "outputs": [],
   "source": [
    "model.compile(optimizer='rmsprop',\n",
    "             loss='categorical_crossentropy',\n",
    "             metrics=['accuracy'])"
   ]
  },
  {
   "cell_type": "code",
   "execution_count": 119,
   "id": "331fc1ac",
   "metadata": {},
   "outputs": [
    {
     "data": {
      "text/plain": [
       "array([[0., 0., 0., 0., 1.],\n",
       "       [1., 0., 0., 0., 0.],\n",
       "       [0., 0., 1., 0., 0.],\n",
       "       ...,\n",
       "       [1., 0., 0., 0., 0.],\n",
       "       [0., 0., 0., 1., 0.],\n",
       "       [1., 0., 0., 0., 0.]], dtype=float32)"
      ]
     },
     "execution_count": 119,
     "metadata": {},
     "output_type": "execute_result"
    }
   ],
   "source": [
    "Y_val\n"
   ]
  },
  {
   "cell_type": "code",
   "execution_count": 120,
   "id": "17baef1f",
   "metadata": {},
   "outputs": [
    {
     "name": "stdout",
     "output_type": "stream",
     "text": [
      "Epoch 1/100\n"
     ]
    },
    {
     "name": "stderr",
     "output_type": "stream",
     "text": [
      "C:\\Users\\ahmet\\anaconda3\\envs\\new_env\\lib\\site-packages\\tensorflow\\python\\framework\\indexed_slices.py:446: UserWarning: Converting sparse IndexedSlices(IndexedSlices(indices=Tensor(\"gradient_tape/sequential_4/dense_12/embedding_lookup_sparse/Reshape_1:0\", shape=(None,), dtype=int32), values=Tensor(\"gradient_tape/sequential_4/dense_12/embedding_lookup_sparse/Reshape:0\", shape=(None, 128), dtype=float32), dense_shape=Tensor(\"gradient_tape/sequential_4/dense_12/embedding_lookup_sparse/Cast:0\", shape=(2,), dtype=int32))) to a dense Tensor of unknown shape. This may consume a large amount of memory.\n",
      "  \"shape. This may consume a large amount of memory.\" % value)\n"
     ]
    },
    {
     "name": "stdout",
     "output_type": "stream",
     "text": [
      "16/16 [==============================] - 1s 28ms/step - loss: 1.6171 - accuracy: 0.2249 - val_loss: 1.6000 - val_accuracy: 0.3368\n",
      "Epoch 2/100\n",
      "16/16 [==============================] - 0s 20ms/step - loss: 1.5865 - accuracy: 0.2740 - val_loss: 1.5839 - val_accuracy: 0.3329\n",
      "Epoch 3/100\n",
      "16/16 [==============================] - 0s 20ms/step - loss: 1.5656 - accuracy: 0.2943 - val_loss: 1.5779 - val_accuracy: 0.3329\n",
      "Epoch 4/100\n",
      "16/16 [==============================] - 0s 21ms/step - loss: 1.5481 - accuracy: 0.3104 - val_loss: 1.5534 - val_accuracy: 0.3329\n",
      "Epoch 5/100\n",
      "16/16 [==============================] - 0s 25ms/step - loss: 1.5353 - accuracy: 0.3189 - val_loss: 1.5487 - val_accuracy: 0.3329\n",
      "Epoch 6/100\n",
      "16/16 [==============================] - 0s 25ms/step - loss: 1.5204 - accuracy: 0.3244 - val_loss: 1.5418 - val_accuracy: 0.3329\n",
      "Epoch 7/100\n",
      "16/16 [==============================] - 0s 25ms/step - loss: 1.5091 - accuracy: 0.3353 - val_loss: 1.5402 - val_accuracy: 0.3329\n",
      "Epoch 8/100\n",
      "16/16 [==============================] - 0s 25ms/step - loss: 1.4958 - accuracy: 0.3477 - val_loss: 1.5308 - val_accuracy: 0.3326\n",
      "Epoch 9/100\n",
      "16/16 [==============================] - 0s 24ms/step - loss: 1.4872 - accuracy: 0.3526 - val_loss: 1.5259 - val_accuracy: 0.3326\n",
      "Epoch 10/100\n",
      "16/16 [==============================] - 0s 25ms/step - loss: 1.4747 - accuracy: 0.3614 - val_loss: 1.5253 - val_accuracy: 0.3376\n",
      "Epoch 11/100\n",
      "16/16 [==============================] - 0s 24ms/step - loss: 1.4670 - accuracy: 0.3655 - val_loss: 1.5239 - val_accuracy: 0.3434\n",
      "Epoch 12/100\n",
      "16/16 [==============================] - 0s 24ms/step - loss: 1.4518 - accuracy: 0.3756 - val_loss: 1.5226 - val_accuracy: 0.3601\n",
      "Epoch 13/100\n",
      "16/16 [==============================] - 0s 25ms/step - loss: 1.4388 - accuracy: 0.3784 - val_loss: 1.5108 - val_accuracy: 0.3508\n",
      "Epoch 14/100\n",
      "16/16 [==============================] - 0s 25ms/step - loss: 1.4275 - accuracy: 0.3846 - val_loss: 1.5154 - val_accuracy: 0.3656\n",
      "Epoch 15/100\n",
      "16/16 [==============================] - 0s 23ms/step - loss: 1.4169 - accuracy: 0.3938 - val_loss: 1.5045 - val_accuracy: 0.3772\n",
      "Epoch 16/100\n",
      "16/16 [==============================] - 0s 25ms/step - loss: 1.4088 - accuracy: 0.3967 - val_loss: 1.4972 - val_accuracy: 0.3625\n",
      "Epoch 17/100\n",
      "16/16 [==============================] - 0s 25ms/step - loss: 1.3957 - accuracy: 0.4056 - val_loss: 1.4843 - val_accuracy: 0.3718\n",
      "Epoch 18/100\n",
      "16/16 [==============================] - 0s 24ms/step - loss: 1.3834 - accuracy: 0.4147 - val_loss: 1.4793 - val_accuracy: 0.3528\n",
      "Epoch 19/100\n",
      "16/16 [==============================] - 0s 25ms/step - loss: 1.3703 - accuracy: 0.4190 - val_loss: 1.4722 - val_accuracy: 0.3539\n",
      "Epoch 20/100\n",
      "16/16 [==============================] - 0s 25ms/step - loss: 1.3634 - accuracy: 0.4202 - val_loss: 1.4729 - val_accuracy: 0.3656\n",
      "Epoch 21/100\n",
      "16/16 [==============================] - 0s 25ms/step - loss: 1.3548 - accuracy: 0.4241 - val_loss: 1.4610 - val_accuracy: 0.3555\n",
      "Epoch 22/100\n",
      "16/16 [==============================] - 0s 25ms/step - loss: 1.3381 - accuracy: 0.4364 - val_loss: 1.4593 - val_accuracy: 0.4005\n",
      "Epoch 23/100\n",
      "16/16 [==============================] - 0s 24ms/step - loss: 1.3257 - accuracy: 0.4418 - val_loss: 1.4551 - val_accuracy: 0.3547\n",
      "Epoch 24/100\n",
      "16/16 [==============================] - 0s 25ms/step - loss: 1.3191 - accuracy: 0.4461 - val_loss: 1.4555 - val_accuracy: 0.3796\n",
      "Epoch 25/100\n",
      "16/16 [==============================] - 0s 24ms/step - loss: 1.3061 - accuracy: 0.4533 - val_loss: 1.4447 - val_accuracy: 0.3683\n",
      "Epoch 26/100\n",
      "16/16 [==============================] - 0s 25ms/step - loss: 1.2996 - accuracy: 0.4519 - val_loss: 1.4455 - val_accuracy: 0.3632\n",
      "Epoch 27/100\n",
      "16/16 [==============================] - 0s 25ms/step - loss: 1.2871 - accuracy: 0.4648 - val_loss: 1.4416 - val_accuracy: 0.3772\n",
      "Epoch 28/100\n",
      "16/16 [==============================] - 0s 25ms/step - loss: 1.2774 - accuracy: 0.4652 - val_loss: 1.4411 - val_accuracy: 0.3982\n",
      "Epoch 29/100\n",
      "16/16 [==============================] - 0s 25ms/step - loss: 1.2688 - accuracy: 0.4677 - val_loss: 1.4466 - val_accuracy: 0.3823\n",
      "Epoch 30/100\n",
      "16/16 [==============================] - 0s 25ms/step - loss: 1.2573 - accuracy: 0.4735 - val_loss: 1.4463 - val_accuracy: 0.3963\n",
      "Epoch 31/100\n",
      "16/16 [==============================] - 0s 25ms/step - loss: 1.2476 - accuracy: 0.4749 - val_loss: 1.4527 - val_accuracy: 0.3869\n",
      "Epoch 32/100\n",
      "16/16 [==============================] - 0s 25ms/step - loss: 1.2405 - accuracy: 0.4810 - val_loss: 1.4622 - val_accuracy: 0.3831\n",
      "Epoch 33/100\n",
      "16/16 [==============================] - 0s 24ms/step - loss: 1.2346 - accuracy: 0.4857 - val_loss: 1.4547 - val_accuracy: 0.3986\n",
      "Epoch 34/100\n",
      "16/16 [==============================] - 0s 23ms/step - loss: 1.2236 - accuracy: 0.4871 - val_loss: 1.4603 - val_accuracy: 0.3873\n",
      "Epoch 35/100\n",
      "16/16 [==============================] - 0s 23ms/step - loss: 1.2133 - accuracy: 0.4918 - val_loss: 1.4638 - val_accuracy: 0.4021\n",
      "Epoch 36/100\n",
      "16/16 [==============================] - 0s 22ms/step - loss: 1.2059 - accuracy: 0.4972 - val_loss: 1.4923 - val_accuracy: 0.3920\n",
      "Epoch 37/100\n",
      "16/16 [==============================] - 0s 22ms/step - loss: 1.2010 - accuracy: 0.5009 - val_loss: 1.4821 - val_accuracy: 0.3881\n",
      "Epoch 38/100\n",
      "16/16 [==============================] - 0s 22ms/step - loss: 1.1884 - accuracy: 0.5020 - val_loss: 1.4853 - val_accuracy: 0.3974\n",
      "Epoch 39/100\n",
      "16/16 [==============================] - 0s 24ms/step - loss: 1.1855 - accuracy: 0.5068 - val_loss: 1.5032 - val_accuracy: 0.3745\n",
      "Epoch 40/100\n",
      "16/16 [==============================] - 0s 25ms/step - loss: 1.1794 - accuracy: 0.5109 - val_loss: 1.4991 - val_accuracy: 0.3862\n",
      "Epoch 41/100\n",
      "16/16 [==============================] - 0s 25ms/step - loss: 1.1712 - accuracy: 0.5132 - val_loss: 1.5070 - val_accuracy: 0.3928\n",
      "Epoch 42/100\n",
      "16/16 [==============================] - 0s 25ms/step - loss: 1.1609 - accuracy: 0.5152 - val_loss: 1.5183 - val_accuracy: 0.3959\n",
      "Epoch 43/100\n",
      "16/16 [==============================] - 0s 24ms/step - loss: 1.1604 - accuracy: 0.5165 - val_loss: 1.5265 - val_accuracy: 0.3959\n",
      "Epoch 44/100\n",
      "16/16 [==============================] - 0s 25ms/step - loss: 1.1438 - accuracy: 0.5244 - val_loss: 1.5266 - val_accuracy: 0.4025\n",
      "Epoch 45/100\n",
      "16/16 [==============================] - 0s 25ms/step - loss: 1.1427 - accuracy: 0.5274 - val_loss: 1.5281 - val_accuracy: 0.3904\n",
      "Epoch 46/100\n",
      "16/16 [==============================] - 0s 23ms/step - loss: 1.1344 - accuracy: 0.5270 - val_loss: 1.5434 - val_accuracy: 0.3834\n",
      "Epoch 47/100\n",
      "16/16 [==============================] - 0s 25ms/step - loss: 1.1302 - accuracy: 0.5306 - val_loss: 1.5428 - val_accuracy: 0.3943\n",
      "Epoch 48/100\n",
      "16/16 [==============================] - 0s 25ms/step - loss: 1.1228 - accuracy: 0.5339 - val_loss: 1.5375 - val_accuracy: 0.3939\n",
      "Epoch 49/100\n",
      "16/16 [==============================] - 0s 24ms/step - loss: 1.1141 - accuracy: 0.5409 - val_loss: 1.5665 - val_accuracy: 0.3819\n",
      "Epoch 50/100\n",
      "16/16 [==============================] - 0s 24ms/step - loss: 1.1106 - accuracy: 0.5407 - val_loss: 1.5600 - val_accuracy: 0.3765\n",
      "Epoch 51/100\n",
      "16/16 [==============================] - 0s 25ms/step - loss: 1.1092 - accuracy: 0.5386 - val_loss: 1.5686 - val_accuracy: 0.3936\n",
      "Epoch 52/100\n",
      "16/16 [==============================] - 0s 25ms/step - loss: 1.1040 - accuracy: 0.5412 - val_loss: 1.5696 - val_accuracy: 0.3955\n",
      "Epoch 53/100\n",
      "16/16 [==============================] - 0s 25ms/step - loss: 1.0975 - accuracy: 0.5428 - val_loss: 1.5708 - val_accuracy: 0.3893\n",
      "Epoch 54/100\n",
      "16/16 [==============================] - 0s 25ms/step - loss: 1.0882 - accuracy: 0.5487 - val_loss: 1.5961 - val_accuracy: 0.3904\n",
      "Epoch 55/100\n",
      "16/16 [==============================] - 0s 23ms/step - loss: 1.0851 - accuracy: 0.5507 - val_loss: 1.6044 - val_accuracy: 0.3850\n",
      "Epoch 56/100\n",
      "16/16 [==============================] - 0s 24ms/step - loss: 1.0784 - accuracy: 0.5518 - val_loss: 1.6183 - val_accuracy: 0.3831\n",
      "Epoch 57/100\n",
      "16/16 [==============================] - 0s 24ms/step - loss: 1.0759 - accuracy: 0.5549 - val_loss: 1.6130 - val_accuracy: 0.3963\n",
      "Epoch 58/100\n"
     ]
    },
    {
     "name": "stdout",
     "output_type": "stream",
     "text": [
      "16/16 [==============================] - 0s 24ms/step - loss: 1.0665 - accuracy: 0.5554 - val_loss: 1.6127 - val_accuracy: 0.3901\n",
      "Epoch 59/100\n",
      "16/16 [==============================] - 0s 25ms/step - loss: 1.0664 - accuracy: 0.5596 - val_loss: 1.6212 - val_accuracy: 0.3998\n",
      "Epoch 60/100\n",
      "16/16 [==============================] - 0s 25ms/step - loss: 1.0581 - accuracy: 0.5589 - val_loss: 1.6287 - val_accuracy: 0.3990\n",
      "Epoch 61/100\n",
      "16/16 [==============================] - 0s 25ms/step - loss: 1.0511 - accuracy: 0.5646 - val_loss: 1.6453 - val_accuracy: 0.3970\n",
      "Epoch 62/100\n",
      "16/16 [==============================] - 0s 25ms/step - loss: 1.0525 - accuracy: 0.5665 - val_loss: 1.6462 - val_accuracy: 0.3854\n",
      "Epoch 63/100\n",
      "16/16 [==============================] - 0s 23ms/step - loss: 1.0377 - accuracy: 0.5711 - val_loss: 1.6601 - val_accuracy: 0.3916\n",
      "Epoch 64/100\n",
      "16/16 [==============================] - 0s 25ms/step - loss: 1.0382 - accuracy: 0.5720 - val_loss: 1.6696 - val_accuracy: 0.3943\n",
      "Epoch 65/100\n",
      "16/16 [==============================] - 0s 25ms/step - loss: 1.0346 - accuracy: 0.5749 - val_loss: 1.6647 - val_accuracy: 0.3916\n",
      "Epoch 66/100\n",
      "16/16 [==============================] - 0s 25ms/step - loss: 1.0246 - accuracy: 0.5741 - val_loss: 1.6902 - val_accuracy: 0.3881\n",
      "Epoch 67/100\n",
      "16/16 [==============================] - 0s 25ms/step - loss: 1.0276 - accuracy: 0.5757 - val_loss: 1.6755 - val_accuracy: 0.3936\n",
      "Epoch 68/100\n",
      "16/16 [==============================] - 0s 25ms/step - loss: 1.0219 - accuracy: 0.5769 - val_loss: 1.6944 - val_accuracy: 0.3904\n",
      "Epoch 69/100\n",
      "16/16 [==============================] - 0s 25ms/step - loss: 1.0158 - accuracy: 0.5812 - val_loss: 1.6917 - val_accuracy: 0.3869\n",
      "Epoch 70/100\n",
      "16/16 [==============================] - 0s 26ms/step - loss: 1.0158 - accuracy: 0.5784 - val_loss: 1.7070 - val_accuracy: 0.3955\n",
      "Epoch 71/100\n",
      "16/16 [==============================] - 0s 26ms/step - loss: 1.0080 - accuracy: 0.5850 - val_loss: 1.7429 - val_accuracy: 0.3928\n",
      "Epoch 72/100\n",
      "16/16 [==============================] - 0s 25ms/step - loss: 1.0074 - accuracy: 0.5805 - val_loss: 1.7091 - val_accuracy: 0.3974\n",
      "Epoch 73/100\n",
      "16/16 [==============================] - 0s 24ms/step - loss: 1.0024 - accuracy: 0.5844 - val_loss: 1.7327 - val_accuracy: 0.3982\n",
      "Epoch 74/100\n",
      "16/16 [==============================] - 0s 25ms/step - loss: 0.9988 - accuracy: 0.5868 - val_loss: 1.7192 - val_accuracy: 0.3936\n",
      "Epoch 75/100\n",
      "16/16 [==============================] - 0s 25ms/step - loss: 0.9943 - accuracy: 0.5898 - val_loss: 1.7368 - val_accuracy: 0.3850\n",
      "Epoch 76/100\n",
      "16/16 [==============================] - 0s 25ms/step - loss: 0.9899 - accuracy: 0.5886 - val_loss: 1.7412 - val_accuracy: 0.3862\n",
      "Epoch 77/100\n",
      "16/16 [==============================] - 0s 25ms/step - loss: 0.9875 - accuracy: 0.5918 - val_loss: 1.7520 - val_accuracy: 0.3893\n",
      "Epoch 78/100\n",
      "16/16 [==============================] - 0s 25ms/step - loss: 0.9817 - accuracy: 0.5909 - val_loss: 1.7577 - val_accuracy: 0.3893\n",
      "Epoch 79/100\n",
      "16/16 [==============================] - 0s 25ms/step - loss: 0.9802 - accuracy: 0.5924 - val_loss: 1.7597 - val_accuracy: 0.3881\n",
      "Epoch 80/100\n",
      "16/16 [==============================] - 0s 25ms/step - loss: 0.9764 - accuracy: 0.5932 - val_loss: 1.7698 - val_accuracy: 0.3932\n",
      "Epoch 81/100\n",
      "16/16 [==============================] - 0s 25ms/step - loss: 0.9706 - accuracy: 0.5990 - val_loss: 1.7749 - val_accuracy: 0.3908\n",
      "Epoch 82/100\n",
      "16/16 [==============================] - 0s 25ms/step - loss: 0.9716 - accuracy: 0.6022 - val_loss: 1.7596 - val_accuracy: 0.3811\n",
      "Epoch 83/100\n",
      "16/16 [==============================] - 0s 25ms/step - loss: 0.9642 - accuracy: 0.6042 - val_loss: 1.8056 - val_accuracy: 0.3893\n",
      "Epoch 84/100\n",
      "16/16 [==============================] - 0s 23ms/step - loss: 0.9570 - accuracy: 0.6071 - val_loss: 1.8075 - val_accuracy: 0.3901\n",
      "Epoch 85/100\n",
      "16/16 [==============================] - 0s 25ms/step - loss: 0.9529 - accuracy: 0.6037 - val_loss: 1.8226 - val_accuracy: 0.3866\n",
      "Epoch 86/100\n",
      "16/16 [==============================] - 0s 24ms/step - loss: 0.9541 - accuracy: 0.6045 - val_loss: 1.7928 - val_accuracy: 0.3901\n",
      "Epoch 87/100\n",
      "16/16 [==============================] - 0s 25ms/step - loss: 0.9502 - accuracy: 0.6060 - val_loss: 1.8268 - val_accuracy: 0.3897\n",
      "Epoch 88/100\n",
      "16/16 [==============================] - 0s 26ms/step - loss: 0.9499 - accuracy: 0.6069 - val_loss: 1.8289 - val_accuracy: 0.3904\n",
      "Epoch 89/100\n",
      "16/16 [==============================] - 0s 25ms/step - loss: 0.9428 - accuracy: 0.6096 - val_loss: 1.8403 - val_accuracy: 0.3800\n",
      "Epoch 90/100\n",
      "16/16 [==============================] - 0s 25ms/step - loss: 0.9413 - accuracy: 0.6130 - val_loss: 1.8386 - val_accuracy: 0.3807\n",
      "Epoch 91/100\n",
      "16/16 [==============================] - 0s 25ms/step - loss: 0.9383 - accuracy: 0.6106 - val_loss: 1.8444 - val_accuracy: 0.3897\n",
      "Epoch 92/100\n",
      "16/16 [==============================] - 0s 25ms/step - loss: 0.9337 - accuracy: 0.6116 - val_loss: 1.8547 - val_accuracy: 0.3897\n",
      "Epoch 93/100\n",
      "16/16 [==============================] - 0s 25ms/step - loss: 0.9284 - accuracy: 0.6149 - val_loss: 1.8585 - val_accuracy: 0.3897\n",
      "Epoch 94/100\n",
      "16/16 [==============================] - 0s 25ms/step - loss: 0.9257 - accuracy: 0.6159 - val_loss: 1.8937 - val_accuracy: 0.3866\n",
      "Epoch 95/100\n",
      "16/16 [==============================] - 0s 25ms/step - loss: 0.9183 - accuracy: 0.6226 - val_loss: 1.9108 - val_accuracy: 0.3796\n",
      "Epoch 96/100\n",
      "16/16 [==============================] - 0s 25ms/step - loss: 0.9225 - accuracy: 0.6169 - val_loss: 1.9218 - val_accuracy: 0.3881\n",
      "Epoch 97/100\n",
      "16/16 [==============================] - 0s 25ms/step - loss: 0.9175 - accuracy: 0.6182 - val_loss: 1.9070 - val_accuracy: 0.3901\n",
      "Epoch 98/100\n",
      "16/16 [==============================] - 0s 25ms/step - loss: 0.9142 - accuracy: 0.6249 - val_loss: 1.9318 - val_accuracy: 0.3893\n",
      "Epoch 99/100\n",
      "16/16 [==============================] - 0s 25ms/step - loss: 0.9106 - accuracy: 0.6240 - val_loss: 1.9327 - val_accuracy: 0.3901\n",
      "Epoch 100/100\n",
      "16/16 [==============================] - 0s 25ms/step - loss: 0.9080 - accuracy: 0.6232 - val_loss: 1.9273 - val_accuracy: 0.3800\n"
     ]
    }
   ],
   "source": [
    "history = model.fit(X_train,\n",
    "                   Y_train,\n",
    "                   epochs=100,\n",
    "                   batch_size=1500,\n",
    "                   validation_data=(X_val, Y_val))"
   ]
  },
  {
   "cell_type": "code",
   "execution_count": 121,
   "id": "27610763",
   "metadata": {},
   "outputs": [
    {
     "name": "stdout",
     "output_type": "stream",
     "text": [
      "Minimum Validation Loss: 1.4411\n",
      "0.6249244213104248\n"
     ]
    },
    {
     "data": {
      "text/plain": [
       "<AxesSubplot:>"
      ]
     },
     "execution_count": 121,
     "metadata": {},
     "output_type": "execute_result"
    },
    {
     "data": {
      "image/png": "[encoded data removed]",
      "text/plain": [
       "<Figure size 640x480 with 1 Axes>"
      ]
     },
     "metadata": {},
     "output_type": "display_data"
    },
    {
     "data": {
      "image/png": "[encoded data removed]",
      "text/plain": [
       "<Figure size 640x480 with 1 Axes>"
      ]
     },
     "metadata": {},
     "output_type": "display_data"
    }
   ],
   "source": [
    "history_df = pd.DataFrame(history.history)\n",
    "history_df.loc[:, ['accuracy', 'val_accuracy']].plot()\n",
    "print(\"Minimum Validation Loss: {:0.4f}\".format(history_df['val_loss'].min()));\n",
    "print(history_df[\"accuracy\"].max())\n",
    "history_df.loc[:, ['loss', 'val_loss']].plot()"
   ]
  },
  {
   "cell_type": "code",
   "execution_count": 122,
   "id": "1a233443",
   "metadata": {},
   "outputs": [
    {
     "name": "stdout",
     "output_type": "stream",
     "text": [
      "202/202 [==============================] - 0s 1ms/step - loss: 1.8463 - accuracy: 0.3743\n"
     ]
    },
    {
     "data": {
      "text/plain": [
       "[1.8463292121887207, 0.374261736869812]"
      ]
     },
     "execution_count": 122,
     "metadata": {},
     "output_type": "execute_result"
    }
   ],
   "source": [
    "model.evaluate(X_test,Y_test)"
   ]
  },
  {
   "cell_type": "code",
   "execution_count": 123,
   "id": "163381cf",
   "metadata": {},
   "outputs": [
    {
     "data": {
      "text/plain": [
       "array([[1., 0., 0., 0., 0.],\n",
       "       [0., 0., 0., 1., 0.],\n",
       "       [0., 1., 0., 0., 0.],\n",
       "       ...,\n",
       "       [0., 1., 0., 0., 0.],\n",
       "       [1., 0., 0., 0., 0.],\n",
       "       [0., 1., 0., 0., 0.]], dtype=float32)"
      ]
     },
     "execution_count": 123,
     "metadata": {},
     "output_type": "execute_result"
    }
   ],
   "source": [
    "Y_test"
   ]
  },
  {
   "cell_type": "code",
   "execution_count": 132,
   "id": "5ce8221e",
   "metadata": {},
   "outputs": [],
   "source": [
    "a = 28221\n",
    "bım=df2.line[a]\n"
   ]
  },
  {
   "cell_type": "code",
   "execution_count": 133,
   "id": "deec6227",
   "metadata": {},
   "outputs": [],
   "source": [
    "bım2=lavector.transform([bım])"
   ]
  },
  {
   "cell_type": "code",
   "execution_count": 134,
   "id": "66f46901",
   "metadata": {},
   "outputs": [
    {
     "name": "stdout",
     "output_type": "stream",
     "text": [
      "1/1 [==============================] - 0s 14ms/step\n"
     ]
    },
    {
     "data": {
      "text/plain": [
       "0"
      ]
     },
     "execution_count": 134,
     "metadata": {},
     "output_type": "execute_result"
    }
   ],
   "source": [
    "model.predict(bım2).argmax()"
   ]
  },
  {
   "cell_type": "code",
   "execution_count": 135,
   "id": "4d26c047",
   "metadata": {},
   "outputs": [
    {
     "data": {
      "text/plain": [
       "{0: 'Michael', 1: 'Jim', 2: 'Pam', 3: 'Dwight', 4: 'Andy'}"
      ]
     },
     "execution_count": 135,
     "metadata": {},
     "output_type": "execute_result"
    }
   ],
   "source": [
    "i_label\n"
   ]
  },
  {
   "cell_type": "code",
   "execution_count": 136,
   "id": "0befdd55",
   "metadata": {},
   "outputs": [
    {
     "data": {
      "text/plain": [
       "' yeah?'"
      ]
     },
     "execution_count": 136,
     "metadata": {},
     "output_type": "execute_result"
    }
   ],
   "source": [
    "df2.line[a]"
   ]
  },
  {
   "cell_type": "code",
   "execution_count": 137,
   "id": "90a3f8c4",
   "metadata": {},
   "outputs": [
    {
     "data": {
      "text/plain": [
       "'Michael'"
      ]
     },
     "execution_count": 137,
     "metadata": {},
     "output_type": "execute_result"
    }
   ],
   "source": [
    "df2.speaker[a]"
   ]
  },
  {
   "cell_type": "code",
   "execution_count": 138,
   "id": "c2ecc5a3",
   "metadata": {},
   "outputs": [
    {
     "name": "stdout",
     "output_type": "stream",
     "text": [
      "202/202 [==============================] - 0s 928us/step\n"
     ]
    }
   ],
   "source": [
    "bıma=model.predict(X_test).argmax(axis=1)"
   ]
  },
  {
   "cell_type": "code",
   "execution_count": 131,
   "id": "491dc867",
   "metadata": {},
   "outputs": [
    {
     "data": {
      "text/plain": [
       "0.37426173453528133"
      ]
     },
     "execution_count": 131,
     "metadata": {},
     "output_type": "execute_result"
    }
   ],
   "source": [
    "sum(y_test ==  bıma)/y_test.size"
   ]
  },
  {
   "cell_type": "code",
   "execution_count": null,
   "id": "e868ef8a",
   "metadata": {},
   "outputs": [],
   "source": []
  },
  {
   "cell_type": "code",
   "execution_count": null,
   "id": "83640be4",
   "metadata": {},
   "outputs": [],
   "source": []
  },
  {
   "cell_type": "code",
   "execution_count": null,
   "id": "206466db",
   "metadata": {},
   "outputs": [],
   "source": []
  },
  {
   "cell_type": "code",
   "execution_count": null,
   "id": "c951f668",
   "metadata": {},
   "outputs": [],
   "source": []
  }
 ],
 "metadata": {
  "kernelspec": {
   "display_name": "Python 3 (ipykernel)",
   "language": "python",
   "name": "python3"
  },
  "language_info": {
   "codemirror_mode": {
    "name": "ipython",
    "version": 3
   },
   "file_extension": ".py",
   "mimetype": "text/x-python",
   "name": "python",
   "nbconvert_exporter": "python",
   "pygments_lexer": "ipython3",
   "version": "3.7.16"
  }
 },
 "nbformat": 4,
 "nbformat_minor": 5
}
